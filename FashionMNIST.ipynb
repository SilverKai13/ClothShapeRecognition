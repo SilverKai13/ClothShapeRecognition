{
  "cells": [
    {
      "cell_type": "markdown",
      "metadata": {
        "id": "XJKxVwmAecj2"
      },
      "source": [
        "## Loading Libraries"
      ]
    },
    {
      "cell_type": "code",
      "execution_count": 1,
      "metadata": {
        "colab": {
          "base_uri": "https://localhost:8080/"
        },
        "id": "i0eNGEPCVPfh",
        "outputId": "5a6a2364-cf18-4bc3-bcb5-bbaf2c014a39"
      },
      "outputs": [
        {
          "name": "stdout",
          "output_type": "stream",
          "text": [
            "2.4.1\n"
          ]
        }
      ],
      "source": [
        "import tensorflow as tf\n",
        "from tensorflow import keras\n",
        "\n",
        "print(tf.__version__)"
      ]
    },
    {
      "cell_type": "markdown",
      "metadata": {
        "id": "subf29Xs6LR7"
      },
      "source": [
        "## Loading Data"
      ]
    },
    {
      "cell_type": "code",
      "execution_count": 2,
      "metadata": {
        "colab": {
          "base_uri": "https://localhost:8080/"
        },
        "id": "AHglsbHZVYM8",
        "outputId": "27fb6292-b3ff-4eba-fe9b-837da2872e4f"
      },
      "outputs": [
        {
          "name": "stdout",
          "output_type": "stream",
          "text": [
            "Downloading data from https://storage.googleapis.com/tensorflow/tf-keras-datasets/train-labels-idx1-ubyte.gz\n",
            "32768/29515 [=================================] - 0s 0us/step\n",
            "Downloading data from https://storage.googleapis.com/tensorflow/tf-keras-datasets/train-images-idx3-ubyte.gz\n",
            "26427392/26421880 [==============================] - 0s 0us/step\n",
            "Downloading data from https://storage.googleapis.com/tensorflow/tf-keras-datasets/t10k-labels-idx1-ubyte.gz\n",
            "8192/5148 [===============================================] - 0s 0us/step\n",
            "Downloading data from https://storage.googleapis.com/tensorflow/tf-keras-datasets/t10k-images-idx3-ubyte.gz\n",
            "4423680/4422102 [==============================] - 0s 0us/step\n"
          ]
        }
      ],
      "source": [
        "data = keras.datasets.fashion_mnist\n",
        "(x_train, y_train), (x_test, y_test) = data.load_data()"
      ]
    },
    {
      "cell_type": "code",
      "execution_count": 3,
      "metadata": {
        "colab": {
          "base_uri": "https://localhost:8080/"
        },
        "id": "4DG0ZNxMVk21",
        "outputId": "b9f20e19-b8e7-4578-ee9d-5df5e1c774b0"
      },
      "outputs": [
        {
          "name": "stdout",
          "output_type": "stream",
          "text": [
            "Training:  (60000, 28, 28) (60000,)\n",
            "Testing:  (10000, 28, 28) (10000,)\n"
          ]
        }
      ],
      "source": [
        "print(\"Training: \", x_train.shape, y_train.shape)\n",
        "print(\"Testing: \",x_test.shape, y_test.shape)"
      ]
    },
    {
      "cell_type": "markdown",
      "metadata": {
        "id": "DsVZN8uT6G5n"
      },
      "source": [
        "## Data Preprocessing"
      ]
    },
    {
      "cell_type": "code",
      "execution_count": 4,
      "metadata": {
        "id": "xdtu4KP2VwXV"
      },
      "outputs": [],
      "source": [
        "x_train = x_train/255\n",
        "x_test = x_test/255"
      ]
    },
    {
      "cell_type": "code",
      "execution_count": 5,
      "metadata": {
        "colab": {
          "base_uri": "https://localhost:8080/"
        },
        "id": "e8hIPtmc6Ucz",
        "outputId": "10c5ecd5-0ce2-455f-8f34-421e3495458f"
      },
      "outputs": [
        {
          "name": "stdout",
          "output_type": "stream",
          "text": [
            "[0 1 2 3 4 5 6 7 8 9]\n"
          ]
        }
      ],
      "source": [
        "import numpy as np\n",
        "print(np.unique(y_train))"
      ]
    },
    {
      "cell_type": "markdown",
      "metadata": {
        "id": "Ju-4e5fm6dRK"
      },
      "source": [
        "Target variable is a multi class variable, therefore we need to convert it to onehotencoded"
      ]
    },
    {
      "cell_type": "code",
      "execution_count": 6,
      "metadata": {
        "id": "lFcxb0K06bUU"
      },
      "outputs": [],
      "source": [
        "y_train = tf.one_hot(y_train, 10)\n",
        "y_test = tf.one_hot(y_test, 10)"
      ]
    },
    {
      "cell_type": "code",
      "execution_count": 7,
      "metadata": {
        "id": "3nUQVY3O7G-k"
      },
      "outputs": [],
      "source": [
        "import matplotlib.pyplot as plt"
      ]
    },
    {
      "cell_type": "code",
      "execution_count": 8,
      "metadata": {
        "colab": {
          "base_uri": "https://localhost:8080/",
          "height": 223
        },
        "id": "eYfyKZZ87i3Q",
        "outputId": "f92cb07f-90be-4918-d019-40b2b378b982"
      },
      "outputs": [
        {
          "data": {
            "image/png": "[encoded data removed]",
            "text/plain": [
              "<Figure size 1440x1440 with 5 Axes>"
            ]
          },
          "metadata": {
            "needs_background": "light",
            "tags": []
          },
          "output_type": "display_data"
        }
      ],
      "source": [
        "fig,ax = plt.subplots(nrows=1,ncols=5,figsize=(20,20))\n",
        "for i in range(5):\n",
        "    ax[i].imshow(x_train[i])\n",
        "    ax[i].axis('off')"
      ]
    },
    {
      "cell_type": "code",
      "execution_count": 13,
      "metadata": {
        "id": "sE4mTAAVQHUx"
      },
      "outputs": [],
      "source": [
        "x_train = x_train.reshape(-1, 28 * 28)\n",
        "x_test = x_test.reshape(-1, 28 * 28)"
      ]
    },
    {
      "cell_type": "code",
      "execution_count": 16,
      "metadata": {
        "colab": {
          "base_uri": "https://localhost:8080/"
        },
        "id": "aFJnCDUaQg31",
        "outputId": "be631e40-60f3-4082-a892-593e33cffd3c"
      },
      "outputs": [
        {
          "data": {
            "text/plain": [
              "(10000, 784)"
            ]
          },
          "execution_count": 16,
          "metadata": {
            "tags": []
          },
          "output_type": "execute_result"
        }
      ],
      "source": [
        "x_test.shape"
      ]
    },
    {
      "cell_type": "code",
      "execution_count": 9,
      "metadata": {
        "id": "n6n3F_c-Pg5p"
      },
      "outputs": [],
      "source": [
        "import tensorflow as tf\n",
        "from tensorflow.keras.layers import Dense\n",
        "from tensorflow.keras import Sequential"
      ]
    },
    {
      "cell_type": "code",
      "execution_count": 17,
      "metadata": {
        "id": "Af0LGLMhPZYV"
      },
      "outputs": [],
      "source": [
        "model_0 = Sequential()\n",
        "\n",
        "# Now the model will take as input arrays of shape (*, 784)# and output arrays of shape (*, 10)\n",
        "model_0.add(Dense(10,input_shape=(784,),name='dense_layer', activation='softmax')) "
      ]
    },
    {
      "cell_type": "markdown",
      "metadata": {
        "id": "XWBBtvHWPztx"
      },
      "source": [
        "### Model compilation"
      ]
    },
    {
      "cell_type": "code",
      "execution_count": 18,
      "metadata": {
        "id": "GpvDDwE_PkDM"
      },
      "outputs": [],
      "source": [
        "# Compiling the model.\n",
        "model_0.compile(optimizer='SGD', \n",
        "              loss='categorical_crossentropy',\n",
        "              metrics=['accuracy'])"
      ]
    },
    {
      "cell_type": "markdown",
      "metadata": {
        "id": "7WWUX-RiPxGh"
      },
      "source": [
        "### Training the model"
      ]
    },
    {
      "cell_type": "code",
      "execution_count": 19,
      "metadata": {
        "colab": {
          "base_uri": "https://localhost:8080/"
        },
        "id": "ylw6brx4PkcK",
        "outputId": "9f4cbd17-6040-4fec-e53c-4072d2c59c54"
      },
      "outputs": [
        {
          "name": "stdout",
          "output_type": "stream",
          "text": [
            "Epoch 1/70\n",
            "750/750 [==============================] - 2s 2ms/step - loss: 1.3890 - accuracy: 0.5542 - val_loss: 0.7553 - val_accuracy: 0.7642\n",
            "Epoch 2/70\n",
            "750/750 [==============================] - 1s 2ms/step - loss: 0.7354 - accuracy: 0.7671 - val_loss: 0.6527 - val_accuracy: 0.7903\n",
            "Epoch 3/70\n",
            "750/750 [==============================] - 2s 2ms/step - loss: 0.6469 - accuracy: 0.7924 - val_loss: 0.6060 - val_accuracy: 0.7995\n",
            "Epoch 4/70\n",
            "750/750 [==============================] - 2s 2ms/step - loss: 0.5999 - accuracy: 0.8080 - val_loss: 0.5782 - val_accuracy: 0.8069\n",
            "Epoch 5/70\n",
            "750/750 [==============================] - 2s 2ms/step - loss: 0.5709 - accuracy: 0.8147 - val_loss: 0.5583 - val_accuracy: 0.8123\n",
            "Epoch 6/70\n",
            "750/750 [==============================] - 2s 2ms/step - loss: 0.5538 - accuracy: 0.8201 - val_loss: 0.5420 - val_accuracy: 0.8167\n",
            "Epoch 7/70\n",
            "750/750 [==============================] - 2s 2ms/step - loss: 0.5383 - accuracy: 0.8228 - val_loss: 0.5310 - val_accuracy: 0.8207\n",
            "Epoch 8/70\n",
            "750/750 [==============================] - 2s 2ms/step - loss: 0.5262 - accuracy: 0.8270 - val_loss: 0.5220 - val_accuracy: 0.8232\n",
            "Epoch 9/70\n",
            "750/750 [==============================] - 2s 2ms/step - loss: 0.5200 - accuracy: 0.8283 - val_loss: 0.5133 - val_accuracy: 0.8238\n",
            "Epoch 10/70\n",
            "750/750 [==============================] - 2s 2ms/step - loss: 0.5085 - accuracy: 0.8313 - val_loss: 0.5068 - val_accuracy: 0.8290\n",
            "Epoch 11/70\n",
            "750/750 [==============================] - 2s 2ms/step - loss: 0.4951 - accuracy: 0.8350 - val_loss: 0.5009 - val_accuracy: 0.8271\n",
            "Epoch 12/70\n",
            "750/750 [==============================] - 2s 2ms/step - loss: 0.4919 - accuracy: 0.8371 - val_loss: 0.4945 - val_accuracy: 0.8316\n",
            "Epoch 13/70\n",
            "750/750 [==============================] - 2s 2ms/step - loss: 0.4930 - accuracy: 0.8354 - val_loss: 0.4906 - val_accuracy: 0.8322\n",
            "Epoch 14/70\n",
            "750/750 [==============================] - 2s 2ms/step - loss: 0.4793 - accuracy: 0.8395 - val_loss: 0.4879 - val_accuracy: 0.8327\n",
            "Epoch 15/70\n",
            "750/750 [==============================] - 2s 2ms/step - loss: 0.4769 - accuracy: 0.8394 - val_loss: 0.4888 - val_accuracy: 0.8317\n",
            "Epoch 16/70\n",
            "750/750 [==============================] - 2s 2ms/step - loss: 0.4723 - accuracy: 0.8403 - val_loss: 0.4822 - val_accuracy: 0.8352\n",
            "Epoch 17/70\n",
            "750/750 [==============================] - 2s 2ms/step - loss: 0.4749 - accuracy: 0.8408 - val_loss: 0.4779 - val_accuracy: 0.8336\n",
            "Epoch 18/70\n",
            "750/750 [==============================] - 2s 2ms/step - loss: 0.4717 - accuracy: 0.8409 - val_loss: 0.4761 - val_accuracy: 0.8359\n",
            "Epoch 19/70\n",
            "750/750 [==============================] - 1s 2ms/step - loss: 0.4676 - accuracy: 0.8410 - val_loss: 0.4715 - val_accuracy: 0.8373\n",
            "Epoch 20/70\n",
            "750/750 [==============================] - 2s 2ms/step - loss: 0.4617 - accuracy: 0.8429 - val_loss: 0.4692 - val_accuracy: 0.8380\n",
            "Epoch 21/70\n",
            "750/750 [==============================] - 2s 2ms/step - loss: 0.4634 - accuracy: 0.8434 - val_loss: 0.4676 - val_accuracy: 0.8381\n",
            "Epoch 22/70\n",
            "750/750 [==============================] - 2s 2ms/step - loss: 0.4582 - accuracy: 0.8444 - val_loss: 0.4652 - val_accuracy: 0.8411\n",
            "Epoch 23/70\n",
            "750/750 [==============================] - 2s 2ms/step - loss: 0.4474 - accuracy: 0.8496 - val_loss: 0.4628 - val_accuracy: 0.8411\n",
            "Epoch 24/70\n",
            "750/750 [==============================] - 2s 2ms/step - loss: 0.4530 - accuracy: 0.8479 - val_loss: 0.4612 - val_accuracy: 0.8423\n",
            "Epoch 25/70\n",
            "750/750 [==============================] - 2s 2ms/step - loss: 0.4487 - accuracy: 0.8496 - val_loss: 0.4604 - val_accuracy: 0.8403\n",
            "Epoch 26/70\n",
            "750/750 [==============================] - 2s 2ms/step - loss: 0.4431 - accuracy: 0.8529 - val_loss: 0.4587 - val_accuracy: 0.8428\n",
            "Epoch 27/70\n",
            "750/750 [==============================] - 2s 2ms/step - loss: 0.4414 - accuracy: 0.8526 - val_loss: 0.4576 - val_accuracy: 0.8420\n",
            "Epoch 28/70\n",
            "750/750 [==============================] - 2s 2ms/step - loss: 0.4480 - accuracy: 0.8480 - val_loss: 0.4555 - val_accuracy: 0.8433\n",
            "Epoch 29/70\n",
            "750/750 [==============================] - 2s 2ms/step - loss: 0.4416 - accuracy: 0.8485 - val_loss: 0.4548 - val_accuracy: 0.8418\n",
            "Epoch 30/70\n",
            "750/750 [==============================] - 2s 2ms/step - loss: 0.4417 - accuracy: 0.8483 - val_loss: 0.4530 - val_accuracy: 0.8443\n",
            "Epoch 31/70\n",
            "750/750 [==============================] - 2s 2ms/step - loss: 0.4325 - accuracy: 0.8543 - val_loss: 0.4522 - val_accuracy: 0.8454\n",
            "Epoch 32/70\n",
            "750/750 [==============================] - 2s 2ms/step - loss: 0.4422 - accuracy: 0.8501 - val_loss: 0.4517 - val_accuracy: 0.8426\n",
            "Epoch 33/70\n",
            "750/750 [==============================] - 2s 2ms/step - loss: 0.4380 - accuracy: 0.8531 - val_loss: 0.4496 - val_accuracy: 0.8453\n",
            "Epoch 34/70\n",
            "750/750 [==============================] - 2s 2ms/step - loss: 0.4370 - accuracy: 0.8522 - val_loss: 0.4482 - val_accuracy: 0.8472\n",
            "Epoch 35/70\n",
            "750/750 [==============================] - 2s 2ms/step - loss: 0.4405 - accuracy: 0.8496 - val_loss: 0.4480 - val_accuracy: 0.8457\n",
            "Epoch 36/70\n",
            "750/750 [==============================] - 1s 2ms/step - loss: 0.4406 - accuracy: 0.8491 - val_loss: 0.4483 - val_accuracy: 0.8463\n",
            "Epoch 37/70\n",
            "750/750 [==============================] - 2s 2ms/step - loss: 0.4327 - accuracy: 0.8524 - val_loss: 0.4452 - val_accuracy: 0.8468\n",
            "Epoch 38/70\n",
            "750/750 [==============================] - 2s 2ms/step - loss: 0.4335 - accuracy: 0.8535 - val_loss: 0.4445 - val_accuracy: 0.8473\n",
            "Epoch 39/70\n",
            "750/750 [==============================] - 2s 2ms/step - loss: 0.4323 - accuracy: 0.8524 - val_loss: 0.4436 - val_accuracy: 0.8478\n",
            "Epoch 40/70\n",
            "750/750 [==============================] - 2s 2ms/step - loss: 0.4276 - accuracy: 0.8558 - val_loss: 0.4432 - val_accuracy: 0.8471\n",
            "Epoch 41/70\n",
            "750/750 [==============================] - 2s 2ms/step - loss: 0.4346 - accuracy: 0.8515 - val_loss: 0.4424 - val_accuracy: 0.8488\n",
            "Epoch 42/70\n",
            "750/750 [==============================] - 2s 2ms/step - loss: 0.4280 - accuracy: 0.8538 - val_loss: 0.4408 - val_accuracy: 0.8490\n",
            "Epoch 43/70\n",
            "750/750 [==============================] - 2s 2ms/step - loss: 0.4221 - accuracy: 0.8577 - val_loss: 0.4415 - val_accuracy: 0.8478\n",
            "Epoch 44/70\n",
            "750/750 [==============================] - 2s 2ms/step - loss: 0.4241 - accuracy: 0.8559 - val_loss: 0.4401 - val_accuracy: 0.8497\n",
            "Epoch 45/70\n",
            "750/750 [==============================] - 2s 2ms/step - loss: 0.4323 - accuracy: 0.8550 - val_loss: 0.4390 - val_accuracy: 0.8498\n",
            "Epoch 46/70\n",
            "750/750 [==============================] - 2s 2ms/step - loss: 0.4254 - accuracy: 0.8555 - val_loss: 0.4411 - val_accuracy: 0.8489\n",
            "Epoch 47/70\n",
            "750/750 [==============================] - 2s 2ms/step - loss: 0.4340 - accuracy: 0.8500 - val_loss: 0.4382 - val_accuracy: 0.8503\n",
            "Epoch 48/70\n",
            "750/750 [==============================] - 2s 2ms/step - loss: 0.4298 - accuracy: 0.8520 - val_loss: 0.4370 - val_accuracy: 0.8499\n",
            "Epoch 49/70\n",
            "750/750 [==============================] - 2s 2ms/step - loss: 0.4253 - accuracy: 0.8546 - val_loss: 0.4388 - val_accuracy: 0.8482\n",
            "Epoch 50/70\n",
            "750/750 [==============================] - 2s 2ms/step - loss: 0.4208 - accuracy: 0.8566 - val_loss: 0.4360 - val_accuracy: 0.8516\n",
            "Epoch 51/70\n",
            "750/750 [==============================] - 2s 2ms/step - loss: 0.4184 - accuracy: 0.8572 - val_loss: 0.4355 - val_accuracy: 0.8515\n",
            "Epoch 52/70\n",
            "750/750 [==============================] - 2s 2ms/step - loss: 0.4160 - accuracy: 0.8581 - val_loss: 0.4360 - val_accuracy: 0.8507\n",
            "Epoch 53/70\n",
            "750/750 [==============================] - 2s 2ms/step - loss: 0.4199 - accuracy: 0.8578 - val_loss: 0.4355 - val_accuracy: 0.8508\n",
            "Epoch 54/70\n",
            "750/750 [==============================] - 1s 2ms/step - loss: 0.4108 - accuracy: 0.8598 - val_loss: 0.4348 - val_accuracy: 0.8516\n",
            "Epoch 55/70\n",
            "750/750 [==============================] - 2s 2ms/step - loss: 0.4235 - accuracy: 0.8557 - val_loss: 0.4342 - val_accuracy: 0.8509\n",
            "Epoch 56/70\n",
            "750/750 [==============================] - 2s 2ms/step - loss: 0.4117 - accuracy: 0.8593 - val_loss: 0.4330 - val_accuracy: 0.8517\n",
            "Epoch 57/70\n",
            "750/750 [==============================] - 2s 2ms/step - loss: 0.4191 - accuracy: 0.8560 - val_loss: 0.4333 - val_accuracy: 0.8529\n",
            "Epoch 58/70\n",
            "750/750 [==============================] - 2s 2ms/step - loss: 0.4198 - accuracy: 0.8552 - val_loss: 0.4325 - val_accuracy: 0.8524\n",
            "Epoch 59/70\n",
            "750/750 [==============================] - 1s 2ms/step - loss: 0.4163 - accuracy: 0.8582 - val_loss: 0.4318 - val_accuracy: 0.8531\n",
            "Epoch 60/70\n",
            "750/750 [==============================] - 2s 2ms/step - loss: 0.4082 - accuracy: 0.8600 - val_loss: 0.4319 - val_accuracy: 0.8533\n",
            "Epoch 61/70\n",
            "750/750 [==============================] - 2s 2ms/step - loss: 0.4128 - accuracy: 0.8586 - val_loss: 0.4317 - val_accuracy: 0.8517\n",
            "Epoch 62/70\n",
            "750/750 [==============================] - 2s 2ms/step - loss: 0.4179 - accuracy: 0.8558 - val_loss: 0.4305 - val_accuracy: 0.8531\n",
            "Epoch 63/70\n",
            "750/750 [==============================] - 2s 2ms/step - loss: 0.4146 - accuracy: 0.8585 - val_loss: 0.4307 - val_accuracy: 0.8518\n",
            "Epoch 64/70\n",
            "750/750 [==============================] - 2s 2ms/step - loss: 0.4176 - accuracy: 0.8559 - val_loss: 0.4313 - val_accuracy: 0.8533\n",
            "Epoch 65/70\n",
            "750/750 [==============================] - 2s 2ms/step - loss: 0.4073 - accuracy: 0.8616 - val_loss: 0.4308 - val_accuracy: 0.8522\n",
            "Epoch 66/70\n",
            "750/750 [==============================] - 2s 2ms/step - loss: 0.4096 - accuracy: 0.8613 - val_loss: 0.4313 - val_accuracy: 0.8526\n",
            "Epoch 67/70\n",
            "750/750 [==============================] - 2s 2ms/step - loss: 0.4096 - accuracy: 0.8601 - val_loss: 0.4303 - val_accuracy: 0.8538\n",
            "Epoch 68/70\n",
            "750/750 [==============================] - 2s 2ms/step - loss: 0.4119 - accuracy: 0.8621 - val_loss: 0.4288 - val_accuracy: 0.8541\n",
            "Epoch 69/70\n",
            "750/750 [==============================] - 2s 2ms/step - loss: 0.4171 - accuracy: 0.8588 - val_loss: 0.4291 - val_accuracy: 0.8527\n",
            "Epoch 70/70\n",
            "750/750 [==============================] - 2s 2ms/step - loss: 0.4132 - accuracy: 0.8607 - val_loss: 0.4304 - val_accuracy: 0.8518\n"
          ]
        }
      ],
      "source": [
        "# Training the model. \n",
        "training = model_0.fit(x_train, y_train, batch_size=64, epochs=70, validation_split=0.2) "
      ]
    },
    {
      "cell_type": "markdown",
      "metadata": {
        "id": "iE0oMzWWPsRO"
      },
      "source": [
        "### Plot accuracies"
      ]
    },
    {
      "cell_type": "code",
      "execution_count": 20,
      "metadata": {
        "colab": {
          "base_uri": "https://localhost:8080/",
          "height": 590
        },
        "id": "N4no8gORPvhR",
        "outputId": "fb3ac169-5621-4121-fcb3-521aec4a3c47"
      },
      "outputs": [
        {
          "name": "stdout",
          "output_type": "stream",
          "text": [
            "dict_keys(['loss', 'accuracy', 'val_loss', 'val_accuracy'])\n"
          ]
        },
        {
          "data": {
            "image/png": "[encoded data removed]",
            "text/plain": [
              "<Figure size 432x288 with 1 Axes>"
            ]
          },
          "metadata": {
            "needs_background": "light",
            "tags": []
          },
          "output_type": "display_data"
        },
        {
          "data": {
            "image/png": "[encoded data removed]",
            "text/plain": [
              "<Figure size 432x288 with 1 Axes>"
            ]
          },
          "metadata": {
            "needs_background": "light",
            "tags": []
          },
          "output_type": "display_data"
        }
      ],
      "source": [
        "import matplotlib.pyplot as plt\n",
        "%matplotlib inline\n",
        "\n",
        "# list all data in training\n",
        "print(training.history.keys())\n",
        "\n",
        "# summarize training for accuracy\n",
        "plt.plot(training.history['accuracy'])\n",
        "plt.plot(training.history['val_accuracy'])\n",
        "plt.title('model accuracy')\n",
        "plt.ylabel('accuracy')\n",
        "plt.xlabel('epoch')\n",
        "plt.legend(['train', 'test'], loc='upper left')\n",
        "plt.show()\n",
        "\n",
        "# summarize training for loss\n",
        "plt.plot(training.history['loss'])\n",
        "plt.plot(training.history['val_loss'])\n",
        "plt.title('model loss')\n",
        "plt.ylabel('loss')\n",
        "plt.xlabel('epoch')\n",
        "plt.legend(['train', 'test'], loc='upper left')\n",
        "plt.show()"
      ]
    },
    {
      "cell_type": "markdown",
      "metadata": {
        "id": "P8gpWVZ7Q-Ew"
      },
      "source": [
        "### Accuracy on the test dataset"
      ]
    },
    {
      "cell_type": "code",
      "execution_count": 21,
      "metadata": {
        "colab": {
          "base_uri": "https://localhost:8080/"
        },
        "id": "7Ei_fP20RB3x",
        "outputId": "e3aeb811-c5c5-4f2d-c95f-ba2d6f466c06"
      },
      "outputs": [
        {
          "name": "stdout",
          "output_type": "stream",
          "text": [
            "313/313 [==============================] - 1s 2ms/step - loss: 0.4563 - accuracy: 0.8411\n",
            "Test accuracy: 0.8410999774932861\n"
          ]
        }
      ],
      "source": [
        "# evaluate the model\n",
        "test_loss, test_acc = model_0.evaluate(x_test, y_test)\n",
        "print('Test accuracy:', test_acc)"
      ]
    },
    {
      "cell_type": "markdown",
      "metadata": {
        "id": "nSIyAi2BRIWm"
      },
      "source": [
        "**With Single layer perceptron, we got 84.1% accuracy**"
      ]
    },
    {
      "cell_type": "markdown",
      "metadata": {
        "id": "1iqsLYbMSWqb"
      },
      "source": [
        "## Multi Layer Perceptron (Model 1) : Adding a hidden layer"
      ]
    },
    {
      "cell_type": "code",
      "execution_count": 22,
      "metadata": {
        "id": "UiW2JvVlSa49"
      },
      "outputs": [],
      "source": [
        "model_1 = Sequential()\n",
        "\n",
        "# Hidden layer - 1\n",
        "model_1.add(Dense(128, input_shape=(784,), name='hidden_layer', activation='relu'))\n",
        "\n",
        "# Output Layer\n",
        "model_1.add(Dense(10, activation='softmax'))"
      ]
    },
    {
      "cell_type": "markdown",
      "metadata": {
        "id": "-T5dKO9-TAKZ"
      },
      "source": [
        "### Model compilation"
      ]
    },
    {
      "cell_type": "code",
      "execution_count": 23,
      "metadata": {
        "id": "ZjBjZYNDS_6t"
      },
      "outputs": [],
      "source": [
        "# Compiling the model.\n",
        "model_1.compile(optimizer='SGD', \n",
        "              loss='categorical_crossentropy',\n",
        "              metrics=['accuracy'])"
      ]
    },
    {
      "cell_type": "code",
      "execution_count": 25,
      "metadata": {
        "colab": {
          "base_uri": "https://localhost:8080/"
        },
        "id": "o_RMm8wSTknc",
        "outputId": "1a2a50d4-37c6-44fc-8087-5a1610a8f028"
      },
      "outputs": [
        {
          "name": "stdout",
          "output_type": "stream",
          "text": [
            "Model: \"sequential_2\"\n",
            "_________________________________________________________________\n",
            "Layer (type)                 Output Shape              Param #   \n",
            "=================================================================\n",
            "hidden_layer (Dense)         (None, 128)               100480    \n",
            "_________________________________________________________________\n",
            "dense (Dense)                (None, 10)                1290      \n",
            "=================================================================\n",
            "Total params: 101,770\n",
            "Trainable params: 101,770\n",
            "Non-trainable params: 0\n",
            "_________________________________________________________________\n"
          ]
        }
      ],
      "source": [
        "model_1.summary()"
      ]
    },
    {
      "cell_type": "markdown",
      "metadata": {
        "id": "q2nCG8AmTGII"
      },
      "source": [
        "### Model Training"
      ]
    },
    {
      "cell_type": "code",
      "execution_count": 24,
      "metadata": {
        "colab": {
          "base_uri": "https://localhost:8080/"
        },
        "id": "vlZ3Q90hTIQR",
        "outputId": "bcf6d74f-f853-4514-ffd9-9a5ac4ec3e15"
      },
      "outputs": [
        {
          "name": "stdout",
          "output_type": "stream",
          "text": [
            "Epoch 1/40\n",
            "750/750 [==============================] - 2s 2ms/step - loss: 1.2722 - accuracy: 0.6114 - val_loss: 0.6790 - val_accuracy: 0.7773\n",
            "Epoch 2/40\n",
            "750/750 [==============================] - 2s 2ms/step - loss: 0.6481 - accuracy: 0.7917 - val_loss: 0.5722 - val_accuracy: 0.8057\n",
            "Epoch 3/40\n",
            "750/750 [==============================] - 2s 2ms/step - loss: 0.5540 - accuracy: 0.8166 - val_loss: 0.5253 - val_accuracy: 0.8207\n",
            "Epoch 4/40\n",
            "750/750 [==============================] - 2s 2ms/step - loss: 0.5227 - accuracy: 0.8245 - val_loss: 0.4984 - val_accuracy: 0.8286\n",
            "Epoch 5/40\n",
            "750/750 [==============================] - 2s 2ms/step - loss: 0.4931 - accuracy: 0.8340 - val_loss: 0.4785 - val_accuracy: 0.8359\n",
            "Epoch 6/40\n",
            "750/750 [==============================] - 2s 2ms/step - loss: 0.4710 - accuracy: 0.8398 - val_loss: 0.4717 - val_accuracy: 0.8372\n",
            "Epoch 7/40\n",
            "750/750 [==============================] - 2s 2ms/step - loss: 0.4601 - accuracy: 0.8440 - val_loss: 0.4548 - val_accuracy: 0.8428\n",
            "Epoch 8/40\n",
            "750/750 [==============================] - 2s 2ms/step - loss: 0.4403 - accuracy: 0.8492 - val_loss: 0.4520 - val_accuracy: 0.8416\n",
            "Epoch 9/40\n",
            "750/750 [==============================] - 2s 2ms/step - loss: 0.4342 - accuracy: 0.8521 - val_loss: 0.4438 - val_accuracy: 0.8432\n",
            "Epoch 10/40\n",
            "750/750 [==============================] - 2s 2ms/step - loss: 0.4300 - accuracy: 0.8546 - val_loss: 0.4346 - val_accuracy: 0.8493\n",
            "Epoch 11/40\n",
            "750/750 [==============================] - 2s 2ms/step - loss: 0.4195 - accuracy: 0.8545 - val_loss: 0.4285 - val_accuracy: 0.8526\n",
            "Epoch 12/40\n",
            "750/750 [==============================] - 2s 2ms/step - loss: 0.4069 - accuracy: 0.8608 - val_loss: 0.4233 - val_accuracy: 0.8523\n",
            "Epoch 13/40\n",
            "750/750 [==============================] - 2s 2ms/step - loss: 0.4132 - accuracy: 0.8579 - val_loss: 0.4196 - val_accuracy: 0.8536\n",
            "Epoch 14/40\n",
            "750/750 [==============================] - 2s 2ms/step - loss: 0.4046 - accuracy: 0.8619 - val_loss: 0.4130 - val_accuracy: 0.8570\n",
            "Epoch 15/40\n",
            "750/750 [==============================] - 2s 2ms/step - loss: 0.3940 - accuracy: 0.8640 - val_loss: 0.4130 - val_accuracy: 0.8563\n",
            "Epoch 16/40\n",
            "750/750 [==============================] - 2s 2ms/step - loss: 0.3913 - accuracy: 0.8651 - val_loss: 0.4110 - val_accuracy: 0.8555\n",
            "Epoch 17/40\n",
            "750/750 [==============================] - 2s 2ms/step - loss: 0.3882 - accuracy: 0.8646 - val_loss: 0.4009 - val_accuracy: 0.8592\n",
            "Epoch 18/40\n",
            "750/750 [==============================] - 2s 2ms/step - loss: 0.3800 - accuracy: 0.8689 - val_loss: 0.3989 - val_accuracy: 0.8607\n",
            "Epoch 19/40\n",
            "750/750 [==============================] - 2s 2ms/step - loss: 0.3792 - accuracy: 0.8682 - val_loss: 0.4054 - val_accuracy: 0.8575\n",
            "Epoch 20/40\n",
            "750/750 [==============================] - 2s 2ms/step - loss: 0.3808 - accuracy: 0.8685 - val_loss: 0.3932 - val_accuracy: 0.8626\n",
            "Epoch 21/40\n",
            "750/750 [==============================] - 2s 2ms/step - loss: 0.3685 - accuracy: 0.8715 - val_loss: 0.3933 - val_accuracy: 0.8607\n",
            "Epoch 22/40\n",
            "750/750 [==============================] - 2s 2ms/step - loss: 0.3694 - accuracy: 0.8699 - val_loss: 0.3871 - val_accuracy: 0.8651\n",
            "Epoch 23/40\n",
            "750/750 [==============================] - 2s 2ms/step - loss: 0.3624 - accuracy: 0.8724 - val_loss: 0.3852 - val_accuracy: 0.8649\n",
            "Epoch 24/40\n",
            "750/750 [==============================] - 2s 2ms/step - loss: 0.3663 - accuracy: 0.8711 - val_loss: 0.3820 - val_accuracy: 0.8658\n",
            "Epoch 25/40\n",
            "750/750 [==============================] - 2s 2ms/step - loss: 0.3557 - accuracy: 0.8763 - val_loss: 0.3835 - val_accuracy: 0.8638\n",
            "Epoch 26/40\n",
            "750/750 [==============================] - 2s 2ms/step - loss: 0.3564 - accuracy: 0.8773 - val_loss: 0.3795 - val_accuracy: 0.8668\n",
            "Epoch 27/40\n",
            "750/750 [==============================] - 2s 2ms/step - loss: 0.3483 - accuracy: 0.8819 - val_loss: 0.3827 - val_accuracy: 0.8655\n",
            "Epoch 28/40\n",
            "750/750 [==============================] - 2s 2ms/step - loss: 0.3516 - accuracy: 0.8759 - val_loss: 0.3782 - val_accuracy: 0.8661\n",
            "Epoch 29/40\n",
            "750/750 [==============================] - 2s 2ms/step - loss: 0.3508 - accuracy: 0.8801 - val_loss: 0.3740 - val_accuracy: 0.8684\n",
            "Epoch 30/40\n",
            "750/750 [==============================] - 2s 2ms/step - loss: 0.3462 - accuracy: 0.8771 - val_loss: 0.3710 - val_accuracy: 0.8698\n",
            "Epoch 31/40\n",
            "750/750 [==============================] - 2s 2ms/step - loss: 0.3422 - accuracy: 0.8803 - val_loss: 0.3704 - val_accuracy: 0.8688\n",
            "Epoch 32/40\n",
            "750/750 [==============================] - 2s 2ms/step - loss: 0.3479 - accuracy: 0.8801 - val_loss: 0.3719 - val_accuracy: 0.8694\n",
            "Epoch 33/40\n",
            "750/750 [==============================] - 2s 2ms/step - loss: 0.3368 - accuracy: 0.8818 - val_loss: 0.3666 - val_accuracy: 0.8705\n",
            "Epoch 34/40\n",
            "750/750 [==============================] - 2s 2ms/step - loss: 0.3328 - accuracy: 0.8826 - val_loss: 0.3722 - val_accuracy: 0.8698\n",
            "Epoch 35/40\n",
            "750/750 [==============================] - 2s 2ms/step - loss: 0.3332 - accuracy: 0.8828 - val_loss: 0.3637 - val_accuracy: 0.8723\n",
            "Epoch 36/40\n",
            "750/750 [==============================] - 2s 2ms/step - loss: 0.3348 - accuracy: 0.8824 - val_loss: 0.3686 - val_accuracy: 0.8708\n",
            "Epoch 37/40\n",
            "750/750 [==============================] - 2s 2ms/step - loss: 0.3318 - accuracy: 0.8840 - val_loss: 0.3623 - val_accuracy: 0.8715\n",
            "Epoch 38/40\n",
            "750/750 [==============================] - 2s 2ms/step - loss: 0.3273 - accuracy: 0.8868 - val_loss: 0.3609 - val_accuracy: 0.8736\n",
            "Epoch 39/40\n",
            "750/750 [==============================] - 2s 2ms/step - loss: 0.3218 - accuracy: 0.8866 - val_loss: 0.3619 - val_accuracy: 0.8723\n",
            "Epoch 40/40\n",
            "750/750 [==============================] - 2s 2ms/step - loss: 0.3274 - accuracy: 0.8865 - val_loss: 0.3587 - val_accuracy: 0.8741\n"
          ]
        }
      ],
      "source": [
        "# Training the model. \n",
        "training_1 = model_1.fit(x_train, y_train, batch_size=64, epochs=40, validation_split=0.2) "
      ]
    },
    {
      "cell_type": "markdown",
      "metadata": {
        "id": "2LQoWOG_TLrC"
      },
      "source": [
        "### Plotting accuracies"
      ]
    },
    {
      "cell_type": "code",
      "execution_count": 26,
      "metadata": {
        "colab": {
          "base_uri": "https://localhost:8080/",
          "height": 590
        },
        "id": "8KGlkgKgTSEl",
        "outputId": "a0491437-3885-4ac0-cfd1-c2016c50a9cc"
      },
      "outputs": [
        {
          "name": "stdout",
          "output_type": "stream",
          "text": [
            "dict_keys(['loss', 'accuracy', 'val_loss', 'val_accuracy'])\n"
          ]
        },
        {
          "data": {
            "image/png": "[encoded data removed]",
            "text/plain": [
              "<Figure size 432x288 with 1 Axes>"
            ]
          },
          "metadata": {
            "needs_background": "light",
            "tags": []
          },
          "output_type": "display_data"
        },
        {
          "data": {
            "image/png": "[encoded data removed]",
            "text/plain": [
              "<Figure size 432x288 with 1 Axes>"
            ]
          },
          "metadata": {
            "needs_background": "light",
            "tags": []
          },
          "output_type": "display_data"
        }
      ],
      "source": [
        "import matplotlib.pyplot as plt\n",
        "%matplotlib inline\n",
        "\n",
        "# list all data in training\n",
        "print(training_1.history.keys())\n",
        "\n",
        "# summarize training for accuracy\n",
        "plt.plot(training_1.history['accuracy'])\n",
        "plt.plot(training_1.history['val_accuracy'])\n",
        "plt.title('model accuracy')\n",
        "plt.ylabel('accuracy')\n",
        "plt.xlabel('epoch')\n",
        "plt.legend(['train', 'test'], loc='upper left')\n",
        "plt.show()\n",
        "\n",
        "# summarize training for loss\n",
        "plt.plot(training_1.history['loss'])\n",
        "plt.plot(training_1.history['val_loss'])\n",
        "plt.title('model loss')\n",
        "plt.ylabel('loss')\n",
        "plt.xlabel('epoch')\n",
        "plt.legend(['train', 'test'], loc='upper left')\n",
        "plt.show()"
      ]
    },
    {
      "cell_type": "markdown",
      "metadata": {
        "id": "Au4iVoYLTal2"
      },
      "source": [
        "### Accuracy on the test dataset"
      ]
    },
    {
      "cell_type": "code",
      "execution_count": 27,
      "metadata": {
        "colab": {
          "base_uri": "https://localhost:8080/"
        },
        "id": "4rX4SSS3Teeg",
        "outputId": "3e31fbc0-668e-48ca-830c-e6b9a59b8d6f"
      },
      "outputs": [
        {
          "name": "stdout",
          "output_type": "stream",
          "text": [
            "313/313 [==============================] - 1s 2ms/step - loss: 0.3843 - accuracy: 0.8650\n",
            "Test accuracy: 0.8650000095367432\n"
          ]
        }
      ],
      "source": [
        "# evaluate the model\n",
        "test_loss, test_acc = model_1.evaluate(x_test, y_test)\n",
        "print('Test accuracy:', test_acc)"
      ]
    },
    {
      "cell_type": "markdown",
      "metadata": {
        "id": "TbefihEYT4No"
      },
      "source": [
        "**With this multi-layer perceptron we obtained 86.5% accuracy which is better than a Single layer perceptron**"
      ]
    },
    {
      "cell_type": "markdown",
      "metadata": {
        "id": "qVHFgYifUTVm"
      },
      "source": [
        "## MLP (Model 2) : Adding a dropout (to prevent overfitting)"
      ]
    },
    {
      "cell_type": "code",
      "execution_count": 29,
      "metadata": {
        "id": "HfOOQhfJUnG5"
      },
      "outputs": [],
      "source": [
        "from tensorflow.keras.layers import Dropout"
      ]
    },
    {
      "cell_type": "code",
      "execution_count": 30,
      "metadata": {
        "id": "zQdQMEgLUXSc"
      },
      "outputs": [],
      "source": [
        "model_2 = Sequential()\n",
        "\n",
        "# Hidden layer - 1\n",
        "model_2.add(Dense(128, input_shape=(784,), name='hidden_layer', activation='relu'))\n",
        "model_2.add(Dropout(0.3))\n",
        "\n",
        "# Output Layer\n",
        "model_2.add(Dense(10, activation='softmax'))"
      ]
    },
    {
      "cell_type": "code",
      "execution_count": 31,
      "metadata": {
        "colab": {
          "base_uri": "https://localhost:8080/"
        },
        "id": "O8-yQqXsU23e",
        "outputId": "aa631dc5-ba4f-4f57-e3a8-4c01e9aa4798"
      },
      "outputs": [
        {
          "name": "stdout",
          "output_type": "stream",
          "text": [
            "Model: \"sequential_3\"\n",
            "_________________________________________________________________\n",
            "Layer (type)                 Output Shape              Param #   \n",
            "=================================================================\n",
            "hidden_layer (Dense)         (None, 128)               100480    \n",
            "_________________________________________________________________\n",
            "dropout (Dropout)            (None, 128)               0         \n",
            "_________________________________________________________________\n",
            "dense_1 (Dense)              (None, 10)                1290      \n",
            "=================================================================\n",
            "Total params: 101,770\n",
            "Trainable params: 101,770\n",
            "Non-trainable params: 0\n",
            "_________________________________________________________________\n"
          ]
        }
      ],
      "source": [
        "model_2.summary()"
      ]
    },
    {
      "cell_type": "markdown",
      "metadata": {
        "id": "Y2nr_zbYUiW9"
      },
      "source": [
        "### Model Compilation"
      ]
    },
    {
      "cell_type": "code",
      "execution_count": 32,
      "metadata": {
        "id": "pkr_O0HOUlRw"
      },
      "outputs": [],
      "source": [
        "# Compiling the model.\n",
        "model_2.compile(optimizer='SGD', \n",
        "              loss='categorical_crossentropy',\n",
        "              metrics=['accuracy'])"
      ]
    },
    {
      "cell_type": "markdown",
      "metadata": {
        "id": "MwqKYBJZU8mp"
      },
      "source": [
        "### Model Training"
      ]
    },
    {
      "cell_type": "code",
      "execution_count": 33,
      "metadata": {
        "colab": {
          "base_uri": "https://localhost:8080/"
        },
        "id": "nH18YmGgU6IH",
        "outputId": "aba8615d-2af6-4b4a-ecc7-95ef055683e6"
      },
      "outputs": [
        {
          "name": "stdout",
          "output_type": "stream",
          "text": [
            "Epoch 1/40\n",
            "750/750 [==============================] - 2s 2ms/step - loss: 1.3719 - accuracy: 0.5375 - val_loss: 0.6991 - val_accuracy: 0.7711\n",
            "Epoch 2/40\n",
            "750/750 [==============================] - 2s 2ms/step - loss: 0.7390 - accuracy: 0.7532 - val_loss: 0.5979 - val_accuracy: 0.8047\n",
            "Epoch 3/40\n",
            "750/750 [==============================] - 2s 2ms/step - loss: 0.6354 - accuracy: 0.7868 - val_loss: 0.5487 - val_accuracy: 0.8177\n",
            "Epoch 4/40\n",
            "750/750 [==============================] - 2s 2ms/step - loss: 0.5916 - accuracy: 0.7981 - val_loss: 0.5183 - val_accuracy: 0.8235\n",
            "Epoch 5/40\n",
            "750/750 [==============================] - 2s 3ms/step - loss: 0.5604 - accuracy: 0.8100 - val_loss: 0.4977 - val_accuracy: 0.8292\n",
            "Epoch 6/40\n",
            "750/750 [==============================] - 2s 2ms/step - loss: 0.5287 - accuracy: 0.8190 - val_loss: 0.4831 - val_accuracy: 0.8332\n",
            "Epoch 7/40\n",
            "750/750 [==============================] - 2s 3ms/step - loss: 0.5094 - accuracy: 0.8277 - val_loss: 0.4680 - val_accuracy: 0.8364\n",
            "Epoch 8/40\n",
            "750/750 [==============================] - 2s 2ms/step - loss: 0.4987 - accuracy: 0.8277 - val_loss: 0.4591 - val_accuracy: 0.8383\n",
            "Epoch 9/40\n",
            "750/750 [==============================] - 2s 2ms/step - loss: 0.4873 - accuracy: 0.8341 - val_loss: 0.4496 - val_accuracy: 0.8411\n",
            "Epoch 10/40\n",
            "750/750 [==============================] - 2s 2ms/step - loss: 0.4725 - accuracy: 0.8381 - val_loss: 0.4421 - val_accuracy: 0.8430\n",
            "Epoch 11/40\n",
            "750/750 [==============================] - 2s 2ms/step - loss: 0.4608 - accuracy: 0.8406 - val_loss: 0.4328 - val_accuracy: 0.8472\n",
            "Epoch 12/40\n",
            "750/750 [==============================] - 2s 2ms/step - loss: 0.4617 - accuracy: 0.8385 - val_loss: 0.4264 - val_accuracy: 0.8504\n",
            "Epoch 13/40\n",
            "750/750 [==============================] - 2s 2ms/step - loss: 0.4413 - accuracy: 0.8454 - val_loss: 0.4209 - val_accuracy: 0.8506\n",
            "Epoch 14/40\n",
            "750/750 [==============================] - 2s 2ms/step - loss: 0.4375 - accuracy: 0.8484 - val_loss: 0.4172 - val_accuracy: 0.8528\n",
            "Epoch 15/40\n",
            "750/750 [==============================] - 2s 2ms/step - loss: 0.4392 - accuracy: 0.8474 - val_loss: 0.4115 - val_accuracy: 0.8537\n",
            "Epoch 16/40\n",
            "750/750 [==============================] - 2s 2ms/step - loss: 0.4258 - accuracy: 0.8498 - val_loss: 0.4070 - val_accuracy: 0.8549\n",
            "Epoch 17/40\n",
            "750/750 [==============================] - 2s 2ms/step - loss: 0.4229 - accuracy: 0.8531 - val_loss: 0.4044 - val_accuracy: 0.8561\n",
            "Epoch 18/40\n",
            "750/750 [==============================] - 2s 2ms/step - loss: 0.4222 - accuracy: 0.8532 - val_loss: 0.4014 - val_accuracy: 0.8581\n",
            "Epoch 19/40\n",
            "750/750 [==============================] - 2s 2ms/step - loss: 0.4164 - accuracy: 0.8529 - val_loss: 0.3972 - val_accuracy: 0.8583\n",
            "Epoch 20/40\n",
            "750/750 [==============================] - 2s 2ms/step - loss: 0.4134 - accuracy: 0.8575 - val_loss: 0.3928 - val_accuracy: 0.8597\n",
            "Epoch 21/40\n",
            "750/750 [==============================] - 2s 2ms/step - loss: 0.4100 - accuracy: 0.8542 - val_loss: 0.3917 - val_accuracy: 0.8603\n",
            "Epoch 22/40\n",
            "750/750 [==============================] - 2s 2ms/step - loss: 0.3982 - accuracy: 0.8614 - val_loss: 0.3897 - val_accuracy: 0.8599\n",
            "Epoch 23/40\n",
            "750/750 [==============================] - 2s 2ms/step - loss: 0.3948 - accuracy: 0.8625 - val_loss: 0.3855 - val_accuracy: 0.8619\n",
            "Epoch 24/40\n",
            "750/750 [==============================] - 2s 2ms/step - loss: 0.3954 - accuracy: 0.8593 - val_loss: 0.3814 - val_accuracy: 0.8630\n",
            "Epoch 25/40\n",
            "750/750 [==============================] - 2s 2ms/step - loss: 0.3948 - accuracy: 0.8615 - val_loss: 0.3798 - val_accuracy: 0.8645\n",
            "Epoch 26/40\n",
            "750/750 [==============================] - 2s 3ms/step - loss: 0.3894 - accuracy: 0.8650 - val_loss: 0.3774 - val_accuracy: 0.8650\n",
            "Epoch 27/40\n",
            "750/750 [==============================] - 2s 2ms/step - loss: 0.3874 - accuracy: 0.8622 - val_loss: 0.3753 - val_accuracy: 0.8658\n",
            "Epoch 28/40\n",
            "750/750 [==============================] - 2s 2ms/step - loss: 0.3808 - accuracy: 0.8667 - val_loss: 0.3731 - val_accuracy: 0.8662\n",
            "Epoch 29/40\n",
            "750/750 [==============================] - 2s 3ms/step - loss: 0.3835 - accuracy: 0.8677 - val_loss: 0.3719 - val_accuracy: 0.8661\n",
            "Epoch 30/40\n",
            "750/750 [==============================] - 2s 2ms/step - loss: 0.3718 - accuracy: 0.8690 - val_loss: 0.3682 - val_accuracy: 0.8673\n",
            "Epoch 31/40\n",
            "750/750 [==============================] - 2s 2ms/step - loss: 0.3740 - accuracy: 0.8697 - val_loss: 0.3667 - val_accuracy: 0.8669\n",
            "Epoch 32/40\n",
            "750/750 [==============================] - 2s 2ms/step - loss: 0.3663 - accuracy: 0.8721 - val_loss: 0.3676 - val_accuracy: 0.8689\n",
            "Epoch 33/40\n",
            "750/750 [==============================] - 2s 2ms/step - loss: 0.3664 - accuracy: 0.8706 - val_loss: 0.3661 - val_accuracy: 0.8695\n",
            "Epoch 34/40\n",
            "750/750 [==============================] - 2s 2ms/step - loss: 0.3702 - accuracy: 0.8699 - val_loss: 0.3627 - val_accuracy: 0.8703\n",
            "Epoch 35/40\n",
            "750/750 [==============================] - 2s 2ms/step - loss: 0.3631 - accuracy: 0.8758 - val_loss: 0.3607 - val_accuracy: 0.8708\n",
            "Epoch 36/40\n",
            "750/750 [==============================] - 2s 2ms/step - loss: 0.3657 - accuracy: 0.8719 - val_loss: 0.3594 - val_accuracy: 0.8707\n",
            "Epoch 37/40\n",
            "750/750 [==============================] - 2s 2ms/step - loss: 0.3632 - accuracy: 0.8731 - val_loss: 0.3607 - val_accuracy: 0.8695\n",
            "Epoch 38/40\n",
            "750/750 [==============================] - 2s 2ms/step - loss: 0.3605 - accuracy: 0.8749 - val_loss: 0.3581 - val_accuracy: 0.8719\n",
            "Epoch 39/40\n",
            "750/750 [==============================] - 2s 2ms/step - loss: 0.3637 - accuracy: 0.8718 - val_loss: 0.3575 - val_accuracy: 0.8709\n",
            "Epoch 40/40\n",
            "750/750 [==============================] - 2s 2ms/step - loss: 0.3599 - accuracy: 0.8724 - val_loss: 0.3556 - val_accuracy: 0.8733\n"
          ]
        }
      ],
      "source": [
        "# Training the model. \n",
        "training_2 = model_2.fit(x_train, y_train, batch_size=64, epochs=40, validation_split=0.2) "
      ]
    },
    {
      "cell_type": "markdown",
      "metadata": {
        "id": "CQTrUNgRVCsE"
      },
      "source": [
        "### Plotting accuracies"
      ]
    },
    {
      "cell_type": "code",
      "execution_count": 34,
      "metadata": {
        "colab": {
          "base_uri": "https://localhost:8080/",
          "height": 590
        },
        "id": "pr7aiI0jVHdn",
        "outputId": "900bb558-b6a9-4a5a-cb51-4fb4e82f755c"
      },
      "outputs": [
        {
          "name": "stdout",
          "output_type": "stream",
          "text": [
            "dict_keys(['loss', 'accuracy', 'val_loss', 'val_accuracy'])\n"
          ]
        },
        {
          "data": {
            "image/png": "[encoded data removed]",
            "text/plain": [
              "<Figure size 432x288 with 1 Axes>"
            ]
          },
          "metadata": {
            "needs_background": "light",
            "tags": []
          },
          "output_type": "display_data"
        },
        {
          "data": {
            "image/png": "[encoded data removed]",
            "text/plain": [
              "<Figure size 432x288 with 1 Axes>"
            ]
          },
          "metadata": {
            "needs_background": "light",
            "tags": []
          },
          "output_type": "display_data"
        }
      ],
      "source": [
        "import matplotlib.pyplot as plt\n",
        "%matplotlib inline\n",
        "\n",
        "# list all data in training\n",
        "print(training_2.history.keys())\n",
        "\n",
        "# summarize training for accuracy\n",
        "plt.plot(training_2.history['accuracy'])\n",
        "plt.plot(training_2.history['val_accuracy'])\n",
        "plt.title('model accuracy')\n",
        "plt.ylabel('accuracy')\n",
        "plt.xlabel('epoch')\n",
        "plt.legend(['train', 'test'], loc='upper left')\n",
        "plt.show()\n",
        "\n",
        "# summarize training for loss\n",
        "plt.plot(training_2.history['loss'])\n",
        "plt.plot(training_2.history['val_loss'])\n",
        "plt.title('model loss')\n",
        "plt.ylabel('loss')\n",
        "plt.xlabel('epoch')\n",
        "plt.legend(['train', 'test'], loc='upper left')\n",
        "plt.show()"
      ]
    },
    {
      "cell_type": "markdown",
      "metadata": {
        "id": "RYU-7xt9VSkx"
      },
      "source": [
        "### Accuracy on the test dataset"
      ]
    },
    {
      "cell_type": "code",
      "execution_count": 35,
      "metadata": {
        "colab": {
          "base_uri": "https://localhost:8080/"
        },
        "id": "C502qfgrVSUp",
        "outputId": "9cd53352-5423-47c7-c26a-4642fa1e003a"
      },
      "outputs": [
        {
          "name": "stdout",
          "output_type": "stream",
          "text": [
            "313/313 [==============================] - 1s 2ms/step - loss: 0.3785 - accuracy: 0.8646\n",
            "Test accuracy: 0.8646000027656555\n"
          ]
        }
      ],
      "source": [
        "# evaluate the model\n",
        "test_loss, test_acc = model_2.evaluate(x_test, y_test)\n",
        "print('Test accuracy:', test_acc)"
      ]
    },
    {
      "cell_type": "markdown",
      "metadata": {
        "id": "2oGpojsmVbud"
      },
      "source": [
        "**The model overfitting is avoided as 30% of Neurons in the hidden layer are dropped at random and the accuracy from model_1 and model_2 are approximately the same**"
      ]
    },
    {
      "cell_type": "markdown",
      "metadata": {
        "id": "8BDPF4z2V2NN"
      },
      "source": [
        "## MLP (Model 3) : Adding neurons to the hidden layer"
      ]
    },
    {
      "cell_type": "code",
      "execution_count": 51,
      "metadata": {
        "id": "33qzoUtzVq0Z"
      },
      "outputs": [],
      "source": [
        "model_3 = Sequential()\n",
        "\n",
        "# Hidden layer - 1\n",
        "model_3.add(Dense(256, input_shape=(784,), name='hidden_layer1', activation='relu'))\n",
        "model_3.add(Dropout(0.3))\n",
        "\n",
        "# Output Layer\n",
        "model_3.add(Dense(10, activation='softmax'))"
      ]
    },
    {
      "cell_type": "code",
      "execution_count": 52,
      "metadata": {
        "colab": {
          "base_uri": "https://localhost:8080/"
        },
        "id": "k29k_nEzWV3-",
        "outputId": "2e469c84-d901-4fa3-9b1d-ac7119e36e0d"
      },
      "outputs": [
        {
          "name": "stdout",
          "output_type": "stream",
          "text": [
            "Model: \"sequential_6\"\n",
            "_________________________________________________________________\n",
            "Layer (type)                 Output Shape              Param #   \n",
            "=================================================================\n",
            "hidden_layer1 (Dense)        (None, 256)               200960    \n",
            "_________________________________________________________________\n",
            "dropout_5 (Dropout)          (None, 256)               0         \n",
            "_________________________________________________________________\n",
            "dense_4 (Dense)              (None, 10)                2570      \n",
            "=================================================================\n",
            "Total params: 203,530\n",
            "Trainable params: 203,530\n",
            "Non-trainable params: 0\n",
            "_________________________________________________________________\n"
          ]
        }
      ],
      "source": [
        "model_3.summary()"
      ]
    },
    {
      "cell_type": "markdown",
      "metadata": {
        "id": "fOGXvifGWPRZ"
      },
      "source": [
        "### Model Compilation"
      ]
    },
    {
      "cell_type": "code",
      "execution_count": 53,
      "metadata": {
        "id": "HeYttohCWQlz"
      },
      "outputs": [],
      "source": [
        "# Compiling the model.\n",
        "model_3.compile(optimizer='SGD', \n",
        "              loss='categorical_crossentropy',\n",
        "              metrics=['accuracy'])"
      ]
    },
    {
      "cell_type": "markdown",
      "metadata": {
        "id": "wxvAY6hhWiJN"
      },
      "source": [
        "### Model Training"
      ]
    },
    {
      "cell_type": "code",
      "execution_count": 54,
      "metadata": {
        "colab": {
          "base_uri": "https://localhost:8080/"
        },
        "id": "3Yd9sb4YWkOE",
        "outputId": "56f70563-0d8d-4bdf-c8f8-a7df3cf3b722"
      },
      "outputs": [
        {
          "name": "stdout",
          "output_type": "stream",
          "text": [
            "Epoch 1/40\n",
            "750/750 [==============================] - 2s 2ms/step - loss: 1.2942 - accuracy: 0.5636 - val_loss: 0.6752 - val_accuracy: 0.7759\n",
            "Epoch 2/40\n",
            "750/750 [==============================] - 2s 2ms/step - loss: 0.6953 - accuracy: 0.7620 - val_loss: 0.5833 - val_accuracy: 0.8023\n",
            "Epoch 3/40\n",
            "750/750 [==============================] - 2s 2ms/step - loss: 0.6034 - accuracy: 0.7969 - val_loss: 0.5334 - val_accuracy: 0.8206\n",
            "Epoch 4/40\n",
            "750/750 [==============================] - 2s 2ms/step - loss: 0.5599 - accuracy: 0.8110 - val_loss: 0.5066 - val_accuracy: 0.8268\n",
            "Epoch 5/40\n",
            "750/750 [==============================] - 2s 2ms/step - loss: 0.5259 - accuracy: 0.8182 - val_loss: 0.4859 - val_accuracy: 0.8329\n",
            "Epoch 6/40\n",
            "750/750 [==============================] - 2s 2ms/step - loss: 0.5086 - accuracy: 0.8269 - val_loss: 0.4689 - val_accuracy: 0.8382\n",
            "Epoch 7/40\n",
            "750/750 [==============================] - 2s 2ms/step - loss: 0.4880 - accuracy: 0.8310 - val_loss: 0.4638 - val_accuracy: 0.8393\n",
            "Epoch 8/40\n",
            "750/750 [==============================] - 2s 2ms/step - loss: 0.4750 - accuracy: 0.8349 - val_loss: 0.4470 - val_accuracy: 0.8462\n",
            "Epoch 9/40\n",
            "750/750 [==============================] - 2s 2ms/step - loss: 0.4611 - accuracy: 0.8440 - val_loss: 0.4389 - val_accuracy: 0.8484\n",
            "Epoch 10/40\n",
            "750/750 [==============================] - 2s 2ms/step - loss: 0.4472 - accuracy: 0.8457 - val_loss: 0.4295 - val_accuracy: 0.8518\n",
            "Epoch 11/40\n",
            "750/750 [==============================] - 2s 2ms/step - loss: 0.4401 - accuracy: 0.8486 - val_loss: 0.4212 - val_accuracy: 0.8549\n",
            "Epoch 12/40\n",
            "750/750 [==============================] - 2s 2ms/step - loss: 0.4415 - accuracy: 0.8481 - val_loss: 0.4160 - val_accuracy: 0.8572\n",
            "Epoch 13/40\n",
            "750/750 [==============================] - 2s 2ms/step - loss: 0.4184 - accuracy: 0.8539 - val_loss: 0.4160 - val_accuracy: 0.8549\n",
            "Epoch 14/40\n",
            "750/750 [==============================] - 2s 2ms/step - loss: 0.4148 - accuracy: 0.8544 - val_loss: 0.4068 - val_accuracy: 0.8596\n",
            "Epoch 15/40\n",
            "750/750 [==============================] - 2s 2ms/step - loss: 0.4157 - accuracy: 0.8538 - val_loss: 0.4015 - val_accuracy: 0.8598\n",
            "Epoch 16/40\n",
            "750/750 [==============================] - 2s 2ms/step - loss: 0.4002 - accuracy: 0.8595 - val_loss: 0.3979 - val_accuracy: 0.8608\n",
            "Epoch 17/40\n",
            "750/750 [==============================] - 2s 2ms/step - loss: 0.3937 - accuracy: 0.8613 - val_loss: 0.3939 - val_accuracy: 0.8618\n",
            "Epoch 18/40\n",
            "750/750 [==============================] - 2s 2ms/step - loss: 0.3955 - accuracy: 0.8619 - val_loss: 0.3937 - val_accuracy: 0.8625\n",
            "Epoch 19/40\n",
            "750/750 [==============================] - 2s 2ms/step - loss: 0.3917 - accuracy: 0.8617 - val_loss: 0.3864 - val_accuracy: 0.8633\n",
            "Epoch 20/40\n",
            "750/750 [==============================] - 2s 2ms/step - loss: 0.3895 - accuracy: 0.8652 - val_loss: 0.3825 - val_accuracy: 0.8655\n",
            "Epoch 21/40\n",
            "750/750 [==============================] - 2s 2ms/step - loss: 0.3799 - accuracy: 0.8667 - val_loss: 0.3824 - val_accuracy: 0.8658\n",
            "Epoch 22/40\n",
            "750/750 [==============================] - 2s 2ms/step - loss: 0.3794 - accuracy: 0.8671 - val_loss: 0.3765 - val_accuracy: 0.8675\n",
            "Epoch 23/40\n",
            "750/750 [==============================] - 2s 2ms/step - loss: 0.3738 - accuracy: 0.8688 - val_loss: 0.3756 - val_accuracy: 0.8671\n",
            "Epoch 24/40\n",
            "750/750 [==============================] - 2s 3ms/step - loss: 0.3751 - accuracy: 0.8709 - val_loss: 0.3719 - val_accuracy: 0.8686\n",
            "Epoch 25/40\n",
            "750/750 [==============================] - 2s 3ms/step - loss: 0.3692 - accuracy: 0.8704 - val_loss: 0.3715 - val_accuracy: 0.8686\n",
            "Epoch 26/40\n",
            "750/750 [==============================] - 2s 2ms/step - loss: 0.3629 - accuracy: 0.8716 - val_loss: 0.3682 - val_accuracy: 0.8708\n",
            "Epoch 27/40\n",
            "750/750 [==============================] - 2s 2ms/step - loss: 0.3636 - accuracy: 0.8705 - val_loss: 0.3656 - val_accuracy: 0.8694\n",
            "Epoch 28/40\n",
            "750/750 [==============================] - 2s 2ms/step - loss: 0.3601 - accuracy: 0.8729 - val_loss: 0.3656 - val_accuracy: 0.8701\n",
            "Epoch 29/40\n",
            "750/750 [==============================] - 2s 2ms/step - loss: 0.3579 - accuracy: 0.8729 - val_loss: 0.3623 - val_accuracy: 0.8706\n",
            "Epoch 30/40\n",
            "750/750 [==============================] - 2s 2ms/step - loss: 0.3535 - accuracy: 0.8739 - val_loss: 0.3589 - val_accuracy: 0.8720\n",
            "Epoch 31/40\n",
            "750/750 [==============================] - 2s 2ms/step - loss: 0.3529 - accuracy: 0.8783 - val_loss: 0.3586 - val_accuracy: 0.8721\n",
            "Epoch 32/40\n",
            "750/750 [==============================] - 2s 3ms/step - loss: 0.3501 - accuracy: 0.8765 - val_loss: 0.3556 - val_accuracy: 0.8732\n",
            "Epoch 33/40\n",
            "750/750 [==============================] - 2s 3ms/step - loss: 0.3449 - accuracy: 0.8797 - val_loss: 0.3612 - val_accuracy: 0.8696\n",
            "Epoch 34/40\n",
            "750/750 [==============================] - 2s 2ms/step - loss: 0.3418 - accuracy: 0.8792 - val_loss: 0.3517 - val_accuracy: 0.8762\n",
            "Epoch 35/40\n",
            "750/750 [==============================] - 2s 2ms/step - loss: 0.3432 - accuracy: 0.8779 - val_loss: 0.3543 - val_accuracy: 0.8721\n",
            "Epoch 36/40\n",
            "750/750 [==============================] - 2s 2ms/step - loss: 0.3415 - accuracy: 0.8783 - val_loss: 0.3490 - val_accuracy: 0.8760\n",
            "Epoch 37/40\n",
            "750/750 [==============================] - 2s 2ms/step - loss: 0.3419 - accuracy: 0.8767 - val_loss: 0.3504 - val_accuracy: 0.8736\n",
            "Epoch 38/40\n",
            "750/750 [==============================] - 2s 2ms/step - loss: 0.3387 - accuracy: 0.8784 - val_loss: 0.3490 - val_accuracy: 0.8755\n",
            "Epoch 39/40\n",
            "750/750 [==============================] - 2s 2ms/step - loss: 0.3324 - accuracy: 0.8821 - val_loss: 0.3497 - val_accuracy: 0.8742\n",
            "Epoch 40/40\n",
            "750/750 [==============================] - 2s 2ms/step - loss: 0.3325 - accuracy: 0.8847 - val_loss: 0.3438 - val_accuracy: 0.8773\n"
          ]
        }
      ],
      "source": [
        "# Training the model. \n",
        "training_3 = model_3.fit(x_train, y_train, batch_size=64, epochs=40, validation_split=0.2) "
      ]
    },
    {
      "cell_type": "markdown",
      "metadata": {
        "id": "qbniKExoWmzM"
      },
      "source": [
        "### Plotting accuracies"
      ]
    },
    {
      "cell_type": "code",
      "execution_count": 55,
      "metadata": {
        "colab": {
          "base_uri": "https://localhost:8080/",
          "height": 590
        },
        "id": "8UuZkyzGWnJE",
        "outputId": "5de98191-289b-4600-a135-bc9c9601bd2e"
      },
      "outputs": [
        {
          "name": "stdout",
          "output_type": "stream",
          "text": [
            "dict_keys(['loss', 'accuracy', 'val_loss', 'val_accuracy'])\n"
          ]
        },
        {
          "data": {
            "image/png": "[encoded data removed]",
            "text/plain": [
              "<Figure size 432x288 with 1 Axes>"
            ]
          },
          "metadata": {
            "needs_background": "light",
            "tags": []
          },
          "output_type": "display_data"
        },
        {
          "data": {
            "image/png": "[encoded data removed]",
            "text/plain": [
              "<Figure size 432x288 with 1 Axes>"
            ]
          },
          "metadata": {
            "needs_background": "light",
            "tags": []
          },
          "output_type": "display_data"
        }
      ],
      "source": [
        "import matplotlib.pyplot as plt\n",
        "%matplotlib inline\n",
        "\n",
        "# list all data in training\n",
        "print(training_3.history.keys())\n",
        "\n",
        "# summarize training for accuracy\n",
        "plt.plot(training_3.history['accuracy'])\n",
        "plt.plot(training_3.history['val_accuracy'])\n",
        "plt.title('model accuracy')\n",
        "plt.ylabel('accuracy')\n",
        "plt.xlabel('epoch')\n",
        "plt.legend(['train', 'test'], loc='upper left')\n",
        "plt.show()\n",
        "\n",
        "# summarize training for loss\n",
        "plt.plot(training_3.history['loss'])\n",
        "plt.plot(training_3.history['val_loss'])\n",
        "plt.title('model loss')\n",
        "plt.ylabel('loss')\n",
        "plt.xlabel('epoch')\n",
        "plt.legend(['train', 'test'], loc='upper left')\n",
        "plt.show()"
      ]
    },
    {
      "cell_type": "markdown",
      "metadata": {
        "id": "gEVwilxOW9Fk"
      },
      "source": [
        "### Accuracy on the test dataset"
      ]
    },
    {
      "cell_type": "code",
      "execution_count": 56,
      "metadata": {
        "colab": {
          "base_uri": "https://localhost:8080/"
        },
        "id": "HmAVJpyKXDW2",
        "outputId": "45460ee6-8f29-4b50-ca5d-59a8857e5b58"
      },
      "outputs": [
        {
          "name": "stdout",
          "output_type": "stream",
          "text": [
            "313/313 [==============================] - 1s 2ms/step - loss: 0.3670 - accuracy: 0.8686\n",
            "Test accuracy: 0.8686000108718872\n"
          ]
        }
      ],
      "source": [
        "# evaluate the model\n",
        "test_loss, test_acc = model_3.evaluate(x_test, y_test)\n",
        "print('Test accuracy:', test_acc)"
      ]
    },
    {
      "cell_type": "markdown",
      "metadata": {
        "id": "ly-57BsbXOXY"
      },
      "source": [
        "**The model accuracy is improved by 0.4% after adding one more hidden layer**"
      ]
    },
    {
      "cell_type": "code",
      "execution_count": 67,
      "metadata": {
        "id": "4YW4SMPTXFur"
      },
      "outputs": [],
      "source": [
        "model_4 = Sequential()\n",
        "\n",
        "# Hidden layer - 1\n",
        "model_4.add(Dense(256, input_shape=(784,), name='hidden_layer1', activation='relu'))\n",
        "model_4.add(Dropout(0.3))\n",
        "\n",
        "# Output Layer\n",
        "model_4.add(Dense(10, activation='softmax'))"
      ]
    },
    {
      "cell_type": "markdown",
      "metadata": {
        "id": "N2SzMY-NY2j1"
      },
      "source": [
        "### Model Compilation"
      ]
    },
    {
      "cell_type": "code",
      "execution_count": 68,
      "metadata": {
        "id": "sLUY4ZusY09b"
      },
      "outputs": [],
      "source": [
        "# Compiling the model.\n",
        "model_4.compile(optimizer='ADAM', \n",
        "              loss='categorical_crossentropy',\n",
        "              metrics=['accuracy'])"
      ]
    },
    {
      "cell_type": "markdown",
      "metadata": {
        "id": "Ta2FVkLFY7mb"
      },
      "source": [
        "### Model Training"
      ]
    },
    {
      "cell_type": "code",
      "execution_count": 69,
      "metadata": {
        "colab": {
          "base_uri": "https://localhost:8080/"
        },
        "id": "CJNF7lJ6Y_Lx",
        "outputId": "01968131-2dbf-407a-f9a8-674eda014232"
      },
      "outputs": [
        {
          "name": "stdout",
          "output_type": "stream",
          "text": [
            "Epoch 1/40\n",
            "750/750 [==============================] - 2s 3ms/step - loss: 0.7257 - accuracy: 0.7468 - val_loss: 0.4442 - val_accuracy: 0.8382\n",
            "Epoch 2/40\n",
            "750/750 [==============================] - 2s 2ms/step - loss: 0.4270 - accuracy: 0.8457 - val_loss: 0.3960 - val_accuracy: 0.8593\n",
            "Epoch 3/40\n",
            "750/750 [==============================] - 2s 2ms/step - loss: 0.3834 - accuracy: 0.8620 - val_loss: 0.3685 - val_accuracy: 0.8626\n",
            "Epoch 4/40\n",
            "750/750 [==============================] - 2s 2ms/step - loss: 0.3557 - accuracy: 0.8707 - val_loss: 0.3480 - val_accuracy: 0.8735\n",
            "Epoch 5/40\n",
            "750/750 [==============================] - 2s 2ms/step - loss: 0.3418 - accuracy: 0.8737 - val_loss: 0.3292 - val_accuracy: 0.8794\n",
            "Epoch 6/40\n",
            "750/750 [==============================] - 2s 2ms/step - loss: 0.3237 - accuracy: 0.8794 - val_loss: 0.3392 - val_accuracy: 0.8770\n",
            "Epoch 7/40\n",
            "750/750 [==============================] - 2s 2ms/step - loss: 0.3182 - accuracy: 0.8813 - val_loss: 0.3297 - val_accuracy: 0.8820\n",
            "Epoch 8/40\n",
            "750/750 [==============================] - 2s 2ms/step - loss: 0.3031 - accuracy: 0.8870 - val_loss: 0.3237 - val_accuracy: 0.8848\n",
            "Epoch 9/40\n",
            "750/750 [==============================] - 2s 2ms/step - loss: 0.2881 - accuracy: 0.8939 - val_loss: 0.3263 - val_accuracy: 0.8817\n",
            "Epoch 10/40\n",
            "750/750 [==============================] - 2s 3ms/step - loss: 0.2912 - accuracy: 0.8903 - val_loss: 0.3086 - val_accuracy: 0.8904\n",
            "Epoch 11/40\n",
            "750/750 [==============================] - 2s 2ms/step - loss: 0.2812 - accuracy: 0.8962 - val_loss: 0.3096 - val_accuracy: 0.8903\n",
            "Epoch 12/40\n",
            "750/750 [==============================] - 2s 2ms/step - loss: 0.2755 - accuracy: 0.8978 - val_loss: 0.3356 - val_accuracy: 0.8810\n",
            "Epoch 13/40\n",
            "750/750 [==============================] - 2s 2ms/step - loss: 0.2727 - accuracy: 0.8983 - val_loss: 0.3154 - val_accuracy: 0.8874\n",
            "Epoch 14/40\n",
            "750/750 [==============================] - 2s 3ms/step - loss: 0.2606 - accuracy: 0.9019 - val_loss: 0.3191 - val_accuracy: 0.8852\n",
            "Epoch 15/40\n",
            "750/750 [==============================] - 2s 2ms/step - loss: 0.2620 - accuracy: 0.9022 - val_loss: 0.3095 - val_accuracy: 0.8915\n",
            "Epoch 16/40\n",
            "750/750 [==============================] - 2s 2ms/step - loss: 0.2566 - accuracy: 0.9048 - val_loss: 0.3042 - val_accuracy: 0.8910\n",
            "Epoch 17/40\n",
            "750/750 [==============================] - 2s 2ms/step - loss: 0.2476 - accuracy: 0.9052 - val_loss: 0.3031 - val_accuracy: 0.8941\n",
            "Epoch 18/40\n",
            "750/750 [==============================] - 2s 2ms/step - loss: 0.2425 - accuracy: 0.9094 - val_loss: 0.3183 - val_accuracy: 0.8894\n",
            "Epoch 19/40\n",
            "750/750 [==============================] - 2s 2ms/step - loss: 0.2367 - accuracy: 0.9099 - val_loss: 0.3119 - val_accuracy: 0.8892\n",
            "Epoch 20/40\n",
            "750/750 [==============================] - 2s 2ms/step - loss: 0.2372 - accuracy: 0.9074 - val_loss: 0.3087 - val_accuracy: 0.8917\n",
            "Epoch 21/40\n",
            "750/750 [==============================] - 2s 2ms/step - loss: 0.2277 - accuracy: 0.9163 - val_loss: 0.3207 - val_accuracy: 0.8905\n",
            "Epoch 22/40\n",
            "750/750 [==============================] - 2s 2ms/step - loss: 0.2255 - accuracy: 0.9144 - val_loss: 0.3085 - val_accuracy: 0.8938\n",
            "Epoch 23/40\n",
            "750/750 [==============================] - 2s 2ms/step - loss: 0.2253 - accuracy: 0.9166 - val_loss: 0.3077 - val_accuracy: 0.8939\n",
            "Epoch 24/40\n",
            "750/750 [==============================] - 2s 2ms/step - loss: 0.2210 - accuracy: 0.9186 - val_loss: 0.3097 - val_accuracy: 0.8923\n",
            "Epoch 25/40\n",
            "750/750 [==============================] - 2s 2ms/step - loss: 0.2149 - accuracy: 0.9199 - val_loss: 0.3102 - val_accuracy: 0.8936\n",
            "Epoch 26/40\n",
            "750/750 [==============================] - 2s 2ms/step - loss: 0.2108 - accuracy: 0.9207 - val_loss: 0.3106 - val_accuracy: 0.8953\n",
            "Epoch 27/40\n",
            "750/750 [==============================] - 2s 2ms/step - loss: 0.2098 - accuracy: 0.9212 - val_loss: 0.3184 - val_accuracy: 0.8930\n",
            "Epoch 28/40\n",
            "750/750 [==============================] - 2s 2ms/step - loss: 0.2088 - accuracy: 0.9222 - val_loss: 0.3206 - val_accuracy: 0.8960\n",
            "Epoch 29/40\n",
            "750/750 [==============================] - 2s 2ms/step - loss: 0.2035 - accuracy: 0.9223 - val_loss: 0.3165 - val_accuracy: 0.8971\n",
            "Epoch 30/40\n",
            "750/750 [==============================] - 2s 2ms/step - loss: 0.2014 - accuracy: 0.9233 - val_loss: 0.3171 - val_accuracy: 0.8913\n",
            "Epoch 31/40\n",
            "750/750 [==============================] - 2s 2ms/step - loss: 0.1984 - accuracy: 0.9237 - val_loss: 0.3198 - val_accuracy: 0.8928\n",
            "Epoch 32/40\n",
            "750/750 [==============================] - 2s 3ms/step - loss: 0.1981 - accuracy: 0.9250 - val_loss: 0.3248 - val_accuracy: 0.8959\n",
            "Epoch 33/40\n",
            "750/750 [==============================] - 2s 2ms/step - loss: 0.1921 - accuracy: 0.9272 - val_loss: 0.3273 - val_accuracy: 0.8957\n",
            "Epoch 34/40\n",
            "750/750 [==============================] - 2s 2ms/step - loss: 0.1925 - accuracy: 0.9261 - val_loss: 0.3236 - val_accuracy: 0.8953\n",
            "Epoch 35/40\n",
            "750/750 [==============================] - 2s 2ms/step - loss: 0.1916 - accuracy: 0.9251 - val_loss: 0.3189 - val_accuracy: 0.8997\n",
            "Epoch 36/40\n",
            "750/750 [==============================] - 2s 2ms/step - loss: 0.1889 - accuracy: 0.9291 - val_loss: 0.3203 - val_accuracy: 0.8976\n",
            "Epoch 37/40\n",
            "750/750 [==============================] - 2s 2ms/step - loss: 0.1865 - accuracy: 0.9279 - val_loss: 0.3244 - val_accuracy: 0.8957\n",
            "Epoch 38/40\n",
            "750/750 [==============================] - 2s 2ms/step - loss: 0.1804 - accuracy: 0.9308 - val_loss: 0.3288 - val_accuracy: 0.8955\n",
            "Epoch 39/40\n",
            "750/750 [==============================] - 2s 2ms/step - loss: 0.1792 - accuracy: 0.9304 - val_loss: 0.3350 - val_accuracy: 0.8960\n",
            "Epoch 40/40\n",
            "750/750 [==============================] - 2s 2ms/step - loss: 0.1791 - accuracy: 0.9325 - val_loss: 0.3363 - val_accuracy: 0.8946\n"
          ]
        }
      ],
      "source": [
        "# Training the model. \n",
        "training_4 = model_4.fit(x_train, y_train, batch_size=64, epochs=40, validation_split=0.2) "
      ]
    },
    {
      "cell_type": "markdown",
      "metadata": {
        "id": "oSdlDoZzZFCw"
      },
      "source": [
        "### Plotting accuracies"
      ]
    },
    {
      "cell_type": "code",
      "execution_count": 70,
      "metadata": {
        "colab": {
          "base_uri": "https://localhost:8080/",
          "height": 590
        },
        "id": "3yWet3_iZG1t",
        "outputId": "d2436990-5ab2-439a-a1da-4dd8c9e4980a"
      },
      "outputs": [
        {
          "name": "stdout",
          "output_type": "stream",
          "text": [
            "dict_keys(['loss', 'accuracy', 'val_loss', 'val_accuracy'])\n"
          ]
        },
        {
          "data": {
            "image/png": "[encoded data removed]",
            "text/plain": [
              "<Figure size 432x288 with 1 Axes>"
            ]
          },
          "metadata": {
            "needs_background": "light",
            "tags": []
          },
          "output_type": "display_data"
        },
        {
          "data": {
            "image/png": "[encoded data removed]",
            "text/plain": [
              "<Figure size 432x288 with 1 Axes>"
            ]
          },
          "metadata": {
            "needs_background": "light",
            "tags": []
          },
          "output_type": "display_data"
        }
      ],
      "source": [
        "import matplotlib.pyplot as plt\n",
        "%matplotlib inline\n",
        "\n",
        "# list all data in training\n",
        "print(training_4.history.keys())\n",
        "\n",
        "# summarize training for accuracy\n",
        "plt.plot(training_4.history['accuracy'])\n",
        "plt.plot(training_4.history['val_accuracy'])\n",
        "plt.title('model accuracy')\n",
        "plt.ylabel('accuracy')\n",
        "plt.xlabel('epoch')\n",
        "plt.legend(['train', 'test'], loc='upper left')\n",
        "plt.show()\n",
        "\n",
        "# summarize training for loss\n",
        "plt.plot(training_4.history['loss'])\n",
        "plt.plot(training_4.history['val_loss'])\n",
        "plt.title('model loss')\n",
        "plt.ylabel('loss')\n",
        "plt.xlabel('epoch')\n",
        "plt.legend(['train', 'test'], loc='upper left')\n",
        "plt.show()"
      ]
    },
    {
      "cell_type": "markdown",
      "metadata": {
        "id": "rma1mBJJZL0X"
      },
      "source": [
        "### Accuracy on the test dataset"
      ]
    },
    {
      "cell_type": "code",
      "execution_count": 71,
      "metadata": {
        "colab": {
          "base_uri": "https://localhost:8080/"
        },
        "id": "XjynfwwcZMic",
        "outputId": "92a3519a-3d5e-433b-f557-3f8eaf7578de"
      },
      "outputs": [
        {
          "name": "stdout",
          "output_type": "stream",
          "text": [
            "313/313 [==============================] - 1s 2ms/step - loss: 0.3726 - accuracy: 0.8928\n",
            "Test accuracy: 0.892799973487854\n"
          ]
        }
      ],
      "source": [
        "# evaluate the model\n",
        "test_loss, test_acc = model_4.evaluate(x_test, y_test)\n",
        "print('Test accuracy:', test_acc)"
      ]
    },
    {
      "cell_type": "code",
      "execution_count": 72,
      "metadata": {
        "colab": {
          "base_uri": "https://localhost:8080/"
        },
        "id": "qQHSpiqpZVwT",
        "outputId": "f0b97098-0dfe-4246-d020-c242fafab82e"
      },
      "outputs": [
        {
          "data": {
            "text/plain": [
              "-2.4199962615966797"
            ]
          },
          "execution_count": 72,
          "metadata": {
            "tags": []
          },
          "output_type": "execute_result"
        }
      ],
      "source": [
        "(0.8686000108718872 - 0.892799973487854) * 100"
      ]
    },
    {
      "cell_type": "markdown",
      "metadata": {
        "id": "fgjKyV8DaBxC"
      },
      "source": [
        "**The model accuracy is improved by 2.4% after changing the optimizer to ADAM but it looks like the model started overfitting**"
      ]
    },
    {
      "cell_type": "code",
      "execution_count": 80,
      "metadata": {
        "id": "MAsRuPRQad07"
      },
      "outputs": [],
      "source": [
        "model_5 = Sequential()\n",
        "\n",
        "# Hidden layer - 1\n",
        "model_5.add(Dense(256, input_shape=(784,), name='hidden_layer1', activation='relu'))\n",
        "model_5.add(Dropout(0.3))\n",
        "\n",
        "# Hidden layer - 2\n",
        "model_5.add(Dense(256, input_shape=(784,), name='hidden_layer2', activation='relu'))\n",
        "model_5.add(Dropout(0.3))\n",
        "\n",
        "# Output Layer\n",
        "model_5.add(Dense(10, activation='softmax'))"
      ]
    },
    {
      "cell_type": "code",
      "execution_count": 81,
      "metadata": {
        "colab": {
          "base_uri": "https://localhost:8080/"
        },
        "id": "nCgps2gGavOu",
        "outputId": "f095fc95-c2db-4796-8748-79330d654a48"
      },
      "outputs": [
        {
          "name": "stdout",
          "output_type": "stream",
          "text": [
            "Model: \"sequential_11\"\n",
            "_________________________________________________________________\n",
            "Layer (type)                 Output Shape              Param #   \n",
            "=================================================================\n",
            "hidden_layer1 (Dense)        (None, 256)               200960    \n",
            "_________________________________________________________________\n",
            "dropout_12 (Dropout)         (None, 256)               0         \n",
            "_________________________________________________________________\n",
            "hidden_layer2 (Dense)        (None, 256)               65792     \n",
            "_________________________________________________________________\n",
            "dropout_13 (Dropout)         (None, 256)               0         \n",
            "_________________________________________________________________\n",
            "dense_9 (Dense)              (None, 10)                2570      \n",
            "=================================================================\n",
            "Total params: 269,322\n",
            "Trainable params: 269,322\n",
            "Non-trainable params: 0\n",
            "_________________________________________________________________\n"
          ]
        }
      ],
      "source": [
        "model_5.summary()"
      ]
    },
    {
      "cell_type": "markdown",
      "metadata": {
        "id": "v_sz_4X1a0yy"
      },
      "source": [
        "### Model Compilation"
      ]
    },
    {
      "cell_type": "code",
      "execution_count": 82,
      "metadata": {
        "id": "IhLIqb7-a0pE"
      },
      "outputs": [],
      "source": [
        "# Compiling the model.\n",
        "model_5.compile(optimizer='ADAM', \n",
        "              loss='categorical_crossentropy',\n",
        "              metrics=['accuracy'])"
      ]
    },
    {
      "cell_type": "markdown",
      "metadata": {
        "id": "oVX-hqyZa7AB"
      },
      "source": [
        "### Model Training"
      ]
    },
    {
      "cell_type": "code",
      "execution_count": 83,
      "metadata": {
        "colab": {
          "base_uri": "https://localhost:8080/"
        },
        "id": "WInFJmUAa8WQ",
        "outputId": "1be01791-8c59-4027-f735-371f57b4d40b"
      },
      "outputs": [
        {
          "name": "stdout",
          "output_type": "stream",
          "text": [
            "Epoch 1/40\n",
            "750/750 [==============================] - 2s 3ms/step - loss: 0.7826 - accuracy: 0.7194 - val_loss: 0.4185 - val_accuracy: 0.8378\n",
            "Epoch 2/40\n",
            "750/750 [==============================] - 2s 2ms/step - loss: 0.4414 - accuracy: 0.8394 - val_loss: 0.3942 - val_accuracy: 0.8539\n",
            "Epoch 3/40\n",
            "750/750 [==============================] - 2s 3ms/step - loss: 0.4058 - accuracy: 0.8542 - val_loss: 0.3660 - val_accuracy: 0.8648\n",
            "Epoch 4/40\n",
            "750/750 [==============================] - 2s 3ms/step - loss: 0.3778 - accuracy: 0.8596 - val_loss: 0.3469 - val_accuracy: 0.8732\n",
            "Epoch 5/40\n",
            "750/750 [==============================] - 2s 2ms/step - loss: 0.3593 - accuracy: 0.8676 - val_loss: 0.3377 - val_accuracy: 0.8763\n",
            "Epoch 6/40\n",
            "750/750 [==============================] - 2s 2ms/step - loss: 0.3389 - accuracy: 0.8739 - val_loss: 0.3529 - val_accuracy: 0.8687\n",
            "Epoch 7/40\n",
            "750/750 [==============================] - 2s 3ms/step - loss: 0.3326 - accuracy: 0.8779 - val_loss: 0.3203 - val_accuracy: 0.8838\n",
            "Epoch 8/40\n",
            "750/750 [==============================] - 2s 3ms/step - loss: 0.3230 - accuracy: 0.8805 - val_loss: 0.3261 - val_accuracy: 0.8798\n",
            "Epoch 9/40\n",
            "750/750 [==============================] - 2s 3ms/step - loss: 0.3107 - accuracy: 0.8846 - val_loss: 0.3230 - val_accuracy: 0.8832\n",
            "Epoch 10/40\n",
            "750/750 [==============================] - 2s 3ms/step - loss: 0.3104 - accuracy: 0.8836 - val_loss: 0.3161 - val_accuracy: 0.8846\n",
            "Epoch 11/40\n",
            "750/750 [==============================] - 2s 2ms/step - loss: 0.3030 - accuracy: 0.8867 - val_loss: 0.3110 - val_accuracy: 0.8890\n",
            "Epoch 12/40\n",
            "750/750 [==============================] - 2s 3ms/step - loss: 0.2988 - accuracy: 0.8897 - val_loss: 0.3107 - val_accuracy: 0.8881\n",
            "Epoch 13/40\n",
            "750/750 [==============================] - 2s 3ms/step - loss: 0.2875 - accuracy: 0.8923 - val_loss: 0.3071 - val_accuracy: 0.8898\n",
            "Epoch 14/40\n",
            "750/750 [==============================] - 2s 3ms/step - loss: 0.2821 - accuracy: 0.8945 - val_loss: 0.3208 - val_accuracy: 0.8841\n",
            "Epoch 15/40\n",
            "750/750 [==============================] - 2s 2ms/step - loss: 0.2763 - accuracy: 0.8952 - val_loss: 0.3053 - val_accuracy: 0.8869\n",
            "Epoch 16/40\n",
            "750/750 [==============================] - 2s 3ms/step - loss: 0.2709 - accuracy: 0.8990 - val_loss: 0.3053 - val_accuracy: 0.8875\n",
            "Epoch 17/40\n",
            "750/750 [==============================] - 2s 2ms/step - loss: 0.2732 - accuracy: 0.8976 - val_loss: 0.3101 - val_accuracy: 0.8912\n",
            "Epoch 18/40\n",
            "750/750 [==============================] - 2s 3ms/step - loss: 0.2610 - accuracy: 0.9002 - val_loss: 0.3072 - val_accuracy: 0.8907\n",
            "Epoch 19/40\n",
            "750/750 [==============================] - 2s 3ms/step - loss: 0.2624 - accuracy: 0.9027 - val_loss: 0.3010 - val_accuracy: 0.8921\n",
            "Epoch 20/40\n",
            "750/750 [==============================] - 2s 2ms/step - loss: 0.2519 - accuracy: 0.9025 - val_loss: 0.3004 - val_accuracy: 0.8926\n",
            "Epoch 21/40\n",
            "750/750 [==============================] - 2s 2ms/step - loss: 0.2618 - accuracy: 0.9002 - val_loss: 0.3023 - val_accuracy: 0.8937\n",
            "Epoch 22/40\n",
            "750/750 [==============================] - 2s 3ms/step - loss: 0.2432 - accuracy: 0.9071 - val_loss: 0.2968 - val_accuracy: 0.8963\n",
            "Epoch 23/40\n",
            "750/750 [==============================] - 2s 3ms/step - loss: 0.2423 - accuracy: 0.9104 - val_loss: 0.3071 - val_accuracy: 0.8957\n",
            "Epoch 24/40\n",
            "750/750 [==============================] - 2s 3ms/step - loss: 0.2474 - accuracy: 0.9073 - val_loss: 0.3114 - val_accuracy: 0.8913\n",
            "Epoch 25/40\n",
            "750/750 [==============================] - 2s 2ms/step - loss: 0.2503 - accuracy: 0.9054 - val_loss: 0.3148 - val_accuracy: 0.8932\n",
            "Epoch 26/40\n",
            "750/750 [==============================] - 2s 3ms/step - loss: 0.2390 - accuracy: 0.9103 - val_loss: 0.3122 - val_accuracy: 0.8904\n",
            "Epoch 27/40\n",
            "750/750 [==============================] - 2s 2ms/step - loss: 0.2407 - accuracy: 0.9092 - val_loss: 0.3017 - val_accuracy: 0.8938\n",
            "Epoch 28/40\n",
            "750/750 [==============================] - 2s 3ms/step - loss: 0.2294 - accuracy: 0.9115 - val_loss: 0.3028 - val_accuracy: 0.8967\n",
            "Epoch 29/40\n",
            "750/750 [==============================] - 2s 2ms/step - loss: 0.2353 - accuracy: 0.9106 - val_loss: 0.3005 - val_accuracy: 0.8937\n",
            "Epoch 30/40\n",
            "750/750 [==============================] - 2s 2ms/step - loss: 0.2319 - accuracy: 0.9114 - val_loss: 0.2979 - val_accuracy: 0.8982\n",
            "Epoch 31/40\n",
            "750/750 [==============================] - 2s 2ms/step - loss: 0.2324 - accuracy: 0.9121 - val_loss: 0.3057 - val_accuracy: 0.8946\n",
            "Epoch 32/40\n",
            "750/750 [==============================] - 2s 2ms/step - loss: 0.2234 - accuracy: 0.9143 - val_loss: 0.3068 - val_accuracy: 0.8966\n",
            "Epoch 33/40\n",
            "750/750 [==============================] - 2s 3ms/step - loss: 0.2225 - accuracy: 0.9156 - val_loss: 0.3255 - val_accuracy: 0.8932\n",
            "Epoch 34/40\n",
            "750/750 [==============================] - 2s 3ms/step - loss: 0.2242 - accuracy: 0.9166 - val_loss: 0.3075 - val_accuracy: 0.8962\n",
            "Epoch 35/40\n",
            "750/750 [==============================] - 2s 3ms/step - loss: 0.2122 - accuracy: 0.9179 - val_loss: 0.3058 - val_accuracy: 0.8926\n",
            "Epoch 36/40\n",
            "750/750 [==============================] - 2s 2ms/step - loss: 0.2166 - accuracy: 0.9165 - val_loss: 0.3124 - val_accuracy: 0.8967\n",
            "Epoch 37/40\n",
            "750/750 [==============================] - 2s 3ms/step - loss: 0.2158 - accuracy: 0.9166 - val_loss: 0.3072 - val_accuracy: 0.8982\n",
            "Epoch 38/40\n",
            "750/750 [==============================] - 2s 3ms/step - loss: 0.2166 - accuracy: 0.9166 - val_loss: 0.3362 - val_accuracy: 0.8889\n",
            "Epoch 39/40\n",
            "750/750 [==============================] - 2s 3ms/step - loss: 0.2209 - accuracy: 0.9154 - val_loss: 0.3072 - val_accuracy: 0.8938\n",
            "Epoch 40/40\n",
            "750/750 [==============================] - 2s 2ms/step - loss: 0.2032 - accuracy: 0.9225 - val_loss: 0.3201 - val_accuracy: 0.8935\n"
          ]
        }
      ],
      "source": [
        "# Training the model. \n",
        "training_5 = model_5.fit(x_train, y_train, batch_size=64, epochs=40, validation_split=0.2) "
      ]
    },
    {
      "cell_type": "markdown",
      "metadata": {
        "id": "Jou_8ZeJa_1a"
      },
      "source": [
        "### Plotting Accuracies"
      ]
    },
    {
      "cell_type": "code",
      "execution_count": 84,
      "metadata": {
        "colab": {
          "base_uri": "https://localhost:8080/",
          "height": 590
        },
        "id": "dyvHtr_xa_qB",
        "outputId": "99d02039-51d1-41f4-ecb7-bbac50435900"
      },
      "outputs": [
        {
          "name": "stdout",
          "output_type": "stream",
          "text": [
            "dict_keys(['loss', 'accuracy', 'val_loss', 'val_accuracy'])\n"
          ]
        },
        {
          "data": {
            "image/png": "[encoded data removed]",
            "text/plain": [
              "<Figure size 432x288 with 1 Axes>"
            ]
          },
          "metadata": {
            "needs_background": "light",
            "tags": []
          },
          "output_type": "display_data"
        },
        {
          "data": {
            "image/png": "[encoded data removed]",
            "text/plain": [
              "<Figure size 432x288 with 1 Axes>"
            ]
          },
          "metadata": {
            "needs_background": "light",
            "tags": []
          },
          "output_type": "display_data"
        }
      ],
      "source": [
        "import matplotlib.pyplot as plt\n",
        "%matplotlib inline\n",
        "\n",
        "# list all data in training\n",
        "print(training_5.history.keys())\n",
        "\n",
        "# summarize training for accuracy\n",
        "plt.plot(training_5.history['accuracy'])\n",
        "plt.plot(training_5.history['val_accuracy'])\n",
        "plt.title('model accuracy')\n",
        "plt.ylabel('accuracy')\n",
        "plt.xlabel('epoch')\n",
        "plt.legend(['train', 'test'], loc='upper left')\n",
        "plt.show()\n",
        "\n",
        "# summarize training for loss\n",
        "plt.plot(training_5.history['loss'])\n",
        "plt.plot(training_5.history['val_loss'])\n",
        "plt.title('model loss')\n",
        "plt.ylabel('loss')\n",
        "plt.xlabel('epoch')\n",
        "plt.legend(['train', 'test'], loc='upper left')\n",
        "plt.show()"
      ]
    },
    {
      "cell_type": "markdown",
      "metadata": {
        "id": "sdZo1TELbHpg"
      },
      "source": [
        "### Accuracy on the test dataset"
      ]
    },
    {
      "cell_type": "code",
      "execution_count": 85,
      "metadata": {
        "colab": {
          "base_uri": "https://localhost:8080/"
        },
        "id": "dJr8pLCfbHem",
        "outputId": "8893f016-1ba3-471a-f90e-e8d158c9a75d"
      },
      "outputs": [
        {
          "name": "stdout",
          "output_type": "stream",
          "text": [
            "313/313 [==============================] - 1s 2ms/step - loss: 0.3406 - accuracy: 0.8897\n",
            "Test accuracy: 0.8896999955177307\n"
          ]
        }
      ],
      "source": [
        "# evaluate the model\n",
        "test_loss, test_acc = model_5.evaluate(x_test, y_test)\n",
        "print('Test accuracy:', test_acc)"
      ]
    },
    {
      "cell_type": "code",
      "execution_count": 86,
      "metadata": {
        "colab": {
          "base_uri": "https://localhost:8080/"
        },
        "id": "_1E194SgbOYI",
        "outputId": "1713a480-4ed1-49fe-f9cc-94014833bd26"
      },
      "outputs": [
        {
          "data": {
            "text/plain": [
              "0.3099977970123291"
            ]
          },
          "execution_count": 86,
          "metadata": {
            "tags": []
          },
          "output_type": "execute_result"
        }
      ],
      "source": [
        "(0.892799973487854 - 0.8896999955177307) * 100"
      ]
    },
    {
      "cell_type": "markdown",
      "metadata": {
        "id": "vt1IqZEAbds6"
      },
      "source": [
        "**Adding more hidden layers has *reduced* the accuracy by 0.3%**"
      ]
    },
    {
      "cell_type": "code",
      "execution_count": 87,
      "metadata": {
        "id": "G4hCWzyacC6B"
      },
      "outputs": [],
      "source": [
        "model_6 = Sequential()\n",
        "\n",
        "# Hidden layer - 1\n",
        "model_6.add(Dense(256, input_shape=(784,), name='hidden_layer1', activation='relu'))\n",
        "model_6.add(Dropout(0.3))\n",
        "\n",
        "# Output Layer\n",
        "model_6.add(Dense(10, activation='softmax'))"
      ]
    },
    {
      "cell_type": "markdown",
      "metadata": {
        "id": "MVqDPk_kcaEY"
      },
      "source": [
        "### Model Compilation"
      ]
    },
    {
      "cell_type": "code",
      "execution_count": 88,
      "metadata": {
        "id": "7Eha2uvacWLX"
      },
      "outputs": [],
      "source": [
        "# Compiling the model.\n",
        "model_6.compile(optimizer='SGD', \n",
        "              loss='categorical_crossentropy',\n",
        "              metrics=['accuracy'])"
      ]
    },
    {
      "cell_type": "markdown",
      "metadata": {
        "id": "PMPeFThjcfDh"
      },
      "source": [
        "### Model Training"
      ]
    },
    {
      "cell_type": "code",
      "execution_count": 89,
      "metadata": {
        "colab": {
          "base_uri": "https://localhost:8080/"
        },
        "id": "O2oQ1onwcfXg",
        "outputId": "ee6a0a6d-6650-42c1-b5ca-d370816af6c1"
      },
      "outputs": [
        {
          "name": "stdout",
          "output_type": "stream",
          "text": [
            "Epoch 1/60\n",
            "1500/1500 [==============================] - 4s 2ms/step - loss: 1.1104 - accuracy: 0.6342 - val_loss: 0.5797 - val_accuracy: 0.8072\n",
            "Epoch 2/60\n",
            "1500/1500 [==============================] - 3s 2ms/step - loss: 0.5848 - accuracy: 0.8054 - val_loss: 0.5066 - val_accuracy: 0.8265\n",
            "Epoch 3/60\n",
            "1500/1500 [==============================] - 3s 2ms/step - loss: 0.5269 - accuracy: 0.8217 - val_loss: 0.4713 - val_accuracy: 0.8357\n",
            "Epoch 4/60\n",
            "1500/1500 [==============================] - 3s 2ms/step - loss: 0.4803 - accuracy: 0.8337 - val_loss: 0.4513 - val_accuracy: 0.8431\n",
            "Epoch 5/60\n",
            "1500/1500 [==============================] - 3s 2ms/step - loss: 0.4666 - accuracy: 0.8389 - val_loss: 0.4286 - val_accuracy: 0.8497\n",
            "Epoch 6/60\n",
            "1500/1500 [==============================] - 3s 2ms/step - loss: 0.4426 - accuracy: 0.8477 - val_loss: 0.4177 - val_accuracy: 0.8522\n",
            "Epoch 7/60\n",
            "1500/1500 [==============================] - 3s 2ms/step - loss: 0.4357 - accuracy: 0.8479 - val_loss: 0.4089 - val_accuracy: 0.8556\n",
            "Epoch 8/60\n",
            "1500/1500 [==============================] - 3s 2ms/step - loss: 0.4168 - accuracy: 0.8541 - val_loss: 0.4004 - val_accuracy: 0.8558\n",
            "Epoch 9/60\n",
            "1500/1500 [==============================] - 3s 2ms/step - loss: 0.4112 - accuracy: 0.8565 - val_loss: 0.3948 - val_accuracy: 0.8584\n",
            "Epoch 10/60\n",
            "1500/1500 [==============================] - 3s 2ms/step - loss: 0.4020 - accuracy: 0.8575 - val_loss: 0.3880 - val_accuracy: 0.8622\n",
            "Epoch 11/60\n",
            "1500/1500 [==============================] - 3s 2ms/step - loss: 0.3890 - accuracy: 0.8619 - val_loss: 0.3825 - val_accuracy: 0.8647\n",
            "Epoch 12/60\n",
            "1500/1500 [==============================] - 3s 2ms/step - loss: 0.3869 - accuracy: 0.8633 - val_loss: 0.3751 - val_accuracy: 0.8660\n",
            "Epoch 13/60\n",
            "1500/1500 [==============================] - 3s 2ms/step - loss: 0.3767 - accuracy: 0.8661 - val_loss: 0.3709 - val_accuracy: 0.8689\n",
            "Epoch 14/60\n",
            "1500/1500 [==============================] - 3s 2ms/step - loss: 0.3730 - accuracy: 0.8697 - val_loss: 0.3694 - val_accuracy: 0.8682\n",
            "Epoch 15/60\n",
            "1500/1500 [==============================] - 3s 2ms/step - loss: 0.3625 - accuracy: 0.8722 - val_loss: 0.3628 - val_accuracy: 0.8722\n",
            "Epoch 16/60\n",
            "1500/1500 [==============================] - 3s 2ms/step - loss: 0.3605 - accuracy: 0.8716 - val_loss: 0.3600 - val_accuracy: 0.8725\n",
            "Epoch 17/60\n",
            "1500/1500 [==============================] - 3s 2ms/step - loss: 0.3546 - accuracy: 0.8759 - val_loss: 0.3592 - val_accuracy: 0.8729\n",
            "Epoch 18/60\n",
            "1500/1500 [==============================] - 3s 2ms/step - loss: 0.3471 - accuracy: 0.8786 - val_loss: 0.3563 - val_accuracy: 0.8737\n",
            "Epoch 19/60\n",
            "1500/1500 [==============================] - 3s 2ms/step - loss: 0.3472 - accuracy: 0.8763 - val_loss: 0.3513 - val_accuracy: 0.8758\n",
            "Epoch 20/60\n",
            "1500/1500 [==============================] - 3s 2ms/step - loss: 0.3425 - accuracy: 0.8798 - val_loss: 0.3503 - val_accuracy: 0.8731\n",
            "Epoch 21/60\n",
            "1500/1500 [==============================] - 3s 2ms/step - loss: 0.3414 - accuracy: 0.8803 - val_loss: 0.3484 - val_accuracy: 0.8755\n",
            "Epoch 22/60\n",
            "1500/1500 [==============================] - 3s 2ms/step - loss: 0.3368 - accuracy: 0.8799 - val_loss: 0.3494 - val_accuracy: 0.8739\n",
            "Epoch 23/60\n",
            "1500/1500 [==============================] - 3s 2ms/step - loss: 0.3253 - accuracy: 0.8843 - val_loss: 0.3457 - val_accuracy: 0.8766\n",
            "Epoch 24/60\n",
            "1500/1500 [==============================] - 3s 2ms/step - loss: 0.3309 - accuracy: 0.8836 - val_loss: 0.3423 - val_accuracy: 0.8760\n",
            "Epoch 25/60\n",
            "1500/1500 [==============================] - 3s 2ms/step - loss: 0.3221 - accuracy: 0.8851 - val_loss: 0.3395 - val_accuracy: 0.8780\n",
            "Epoch 26/60\n",
            "1500/1500 [==============================] - 3s 2ms/step - loss: 0.3255 - accuracy: 0.8859 - val_loss: 0.3360 - val_accuracy: 0.8776\n",
            "Epoch 27/60\n",
            "1500/1500 [==============================] - 3s 2ms/step - loss: 0.3202 - accuracy: 0.8849 - val_loss: 0.3369 - val_accuracy: 0.8794\n",
            "Epoch 28/60\n",
            "1500/1500 [==============================] - 3s 2ms/step - loss: 0.3098 - accuracy: 0.8899 - val_loss: 0.3363 - val_accuracy: 0.8798\n",
            "Epoch 29/60\n",
            "1500/1500 [==============================] - 3s 2ms/step - loss: 0.3128 - accuracy: 0.8889 - val_loss: 0.3325 - val_accuracy: 0.8809\n",
            "Epoch 30/60\n",
            "1500/1500 [==============================] - 3s 2ms/step - loss: 0.3080 - accuracy: 0.8889 - val_loss: 0.3308 - val_accuracy: 0.8823\n",
            "Epoch 31/60\n",
            "1500/1500 [==============================] - 3s 2ms/step - loss: 0.3100 - accuracy: 0.8903 - val_loss: 0.3324 - val_accuracy: 0.8820\n",
            "Epoch 32/60\n",
            "1500/1500 [==============================] - 3s 2ms/step - loss: 0.3064 - accuracy: 0.8910 - val_loss: 0.3248 - val_accuracy: 0.8838\n",
            "Epoch 33/60\n",
            "1500/1500 [==============================] - 3s 2ms/step - loss: 0.2985 - accuracy: 0.8906 - val_loss: 0.3230 - val_accuracy: 0.8833\n",
            "Epoch 34/60\n",
            "1500/1500 [==============================] - 3s 2ms/step - loss: 0.2990 - accuracy: 0.8948 - val_loss: 0.3286 - val_accuracy: 0.8824\n",
            "Epoch 35/60\n",
            "1500/1500 [==============================] - 3s 2ms/step - loss: 0.2995 - accuracy: 0.8931 - val_loss: 0.3245 - val_accuracy: 0.8831\n",
            "Epoch 36/60\n",
            "1500/1500 [==============================] - 3s 2ms/step - loss: 0.2924 - accuracy: 0.8960 - val_loss: 0.3224 - val_accuracy: 0.8838\n",
            "Epoch 37/60\n",
            "1500/1500 [==============================] - 3s 2ms/step - loss: 0.2958 - accuracy: 0.8930 - val_loss: 0.3235 - val_accuracy: 0.8827\n",
            "Epoch 38/60\n",
            "1500/1500 [==============================] - 3s 2ms/step - loss: 0.2885 - accuracy: 0.8987 - val_loss: 0.3211 - val_accuracy: 0.8857\n",
            "Epoch 39/60\n",
            "1500/1500 [==============================] - 3s 2ms/step - loss: 0.2948 - accuracy: 0.8954 - val_loss: 0.3187 - val_accuracy: 0.8841\n",
            "Epoch 40/60\n",
            "1500/1500 [==============================] - 3s 2ms/step - loss: 0.2882 - accuracy: 0.8979 - val_loss: 0.3175 - val_accuracy: 0.8856\n",
            "Epoch 41/60\n",
            "1500/1500 [==============================] - 3s 2ms/step - loss: 0.2853 - accuracy: 0.8995 - val_loss: 0.3176 - val_accuracy: 0.8862\n",
            "Epoch 42/60\n",
            "1500/1500 [==============================] - 3s 2ms/step - loss: 0.2842 - accuracy: 0.8981 - val_loss: 0.3149 - val_accuracy: 0.8870\n",
            "Epoch 43/60\n",
            "1500/1500 [==============================] - 3s 2ms/step - loss: 0.2854 - accuracy: 0.8990 - val_loss: 0.3155 - val_accuracy: 0.8863\n",
            "Epoch 44/60\n",
            "1500/1500 [==============================] - 3s 2ms/step - loss: 0.2831 - accuracy: 0.8976 - val_loss: 0.3145 - val_accuracy: 0.8864\n",
            "Epoch 45/60\n",
            "1500/1500 [==============================] - 3s 2ms/step - loss: 0.2737 - accuracy: 0.9023 - val_loss: 0.3117 - val_accuracy: 0.8878\n",
            "Epoch 46/60\n",
            "1500/1500 [==============================] - 3s 2ms/step - loss: 0.2739 - accuracy: 0.9021 - val_loss: 0.3181 - val_accuracy: 0.8848\n",
            "Epoch 47/60\n",
            "1500/1500 [==============================] - 3s 2ms/step - loss: 0.2731 - accuracy: 0.9025 - val_loss: 0.3114 - val_accuracy: 0.8865\n",
            "Epoch 48/60\n",
            "1500/1500 [==============================] - 3s 2ms/step - loss: 0.2644 - accuracy: 0.9079 - val_loss: 0.3096 - val_accuracy: 0.8877\n",
            "Epoch 49/60\n",
            "1500/1500 [==============================] - 3s 2ms/step - loss: 0.2720 - accuracy: 0.9043 - val_loss: 0.3105 - val_accuracy: 0.8861\n",
            "Epoch 50/60\n",
            "1500/1500 [==============================] - 3s 2ms/step - loss: 0.2649 - accuracy: 0.9063 - val_loss: 0.3102 - val_accuracy: 0.8872\n",
            "Epoch 51/60\n",
            "1500/1500 [==============================] - 3s 2ms/step - loss: 0.2671 - accuracy: 0.9057 - val_loss: 0.3075 - val_accuracy: 0.8901\n",
            "Epoch 52/60\n",
            "1500/1500 [==============================] - 3s 2ms/step - loss: 0.2635 - accuracy: 0.9067 - val_loss: 0.3092 - val_accuracy: 0.8881\n",
            "Epoch 53/60\n",
            "1500/1500 [==============================] - 3s 2ms/step - loss: 0.2654 - accuracy: 0.9059 - val_loss: 0.3039 - val_accuracy: 0.8897\n",
            "Epoch 54/60\n",
            "1500/1500 [==============================] - 3s 2ms/step - loss: 0.2591 - accuracy: 0.9080 - val_loss: 0.3022 - val_accuracy: 0.8911\n",
            "Epoch 55/60\n",
            "1500/1500 [==============================] - 3s 2ms/step - loss: 0.2541 - accuracy: 0.9100 - val_loss: 0.3077 - val_accuracy: 0.8887\n",
            "Epoch 56/60\n",
            "1500/1500 [==============================] - 3s 2ms/step - loss: 0.2562 - accuracy: 0.9102 - val_loss: 0.3050 - val_accuracy: 0.8887\n",
            "Epoch 57/60\n",
            "1500/1500 [==============================] - 3s 2ms/step - loss: 0.2570 - accuracy: 0.9077 - val_loss: 0.3034 - val_accuracy: 0.8903\n",
            "Epoch 58/60\n",
            "1500/1500 [==============================] - 3s 2ms/step - loss: 0.2528 - accuracy: 0.9106 - val_loss: 0.3019 - val_accuracy: 0.8902\n",
            "Epoch 59/60\n",
            "1500/1500 [==============================] - 3s 2ms/step - loss: 0.2553 - accuracy: 0.9097 - val_loss: 0.3020 - val_accuracy: 0.8903\n",
            "Epoch 60/60\n",
            "1500/1500 [==============================] - 3s 2ms/step - loss: 0.2552 - accuracy: 0.9109 - val_loss: 0.3132 - val_accuracy: 0.8870\n"
          ]
        }
      ],
      "source": [
        "# Training the model. \n",
        "training_6 = model_6.fit(x_train, y_train, batch_size=32, epochs=60, validation_split=0.2) "
      ]
    },
    {
      "cell_type": "markdown",
      "metadata": {
        "id": "jkJt_p4qcnWV"
      },
      "source": [
        "### Plotting Accuracies"
      ]
    },
    {
      "cell_type": "code",
      "execution_count": 90,
      "metadata": {
        "colab": {
          "base_uri": "https://localhost:8080/",
          "height": 590
        },
        "id": "FFzNsQQacnus",
        "outputId": "cc82eebb-afac-4e4e-c193-872b781e275f"
      },
      "outputs": [
        {
          "name": "stdout",
          "output_type": "stream",
          "text": [
            "dict_keys(['loss', 'accuracy', 'val_loss', 'val_accuracy'])\n"
          ]
        },
        {
          "data": {
            "image/png": "[encoded data removed]",
            "text/plain": [
              "<Figure size 432x288 with 1 Axes>"
            ]
          },
          "metadata": {
            "needs_background": "light",
            "tags": []
          },
          "output_type": "display_data"
        },
        {
          "data": {
            "image/png": "[encoded data removed]",
            "text/plain": [
              "<Figure size 432x288 with 1 Axes>"
            ]
          },
          "metadata": {
            "needs_background": "light",
            "tags": []
          },
          "output_type": "display_data"
        }
      ],
      "source": [
        "import matplotlib.pyplot as plt\n",
        "%matplotlib inline\n",
        "\n",
        "# list all data in training\n",
        "print(training_6.history.keys())\n",
        "\n",
        "# summarize training for accuracy\n",
        "plt.plot(training_6.history['accuracy'])\n",
        "plt.plot(training_6.history['val_accuracy'])\n",
        "plt.title('model accuracy')\n",
        "plt.ylabel('accuracy')\n",
        "plt.xlabel('epoch')\n",
        "plt.legend(['train', 'test'], loc='upper left')\n",
        "plt.show()\n",
        "\n",
        "# summarize training for loss\n",
        "plt.plot(training_6.history['loss'])\n",
        "plt.plot(training_6.history['val_loss'])\n",
        "plt.title('model loss')\n",
        "plt.ylabel('loss')\n",
        "plt.xlabel('epoch')\n",
        "plt.legend(['train', 'test'], loc='upper left')\n",
        "plt.show()"
      ]
    },
    {
      "cell_type": "markdown",
      "metadata": {
        "id": "b35Sp-ddcyC2"
      },
      "source": [
        "### Accuracy on the test dataset"
      ]
    },
    {
      "cell_type": "code",
      "execution_count": 91,
      "metadata": {
        "colab": {
          "base_uri": "https://localhost:8080/"
        },
        "id": "Uc_oHFADcxzl",
        "outputId": "26dd8f09-5ab3-4969-e0f2-399978489c01"
      },
      "outputs": [
        {
          "name": "stdout",
          "output_type": "stream",
          "text": [
            "313/313 [==============================] - 1s 2ms/step - loss: 0.3326 - accuracy: 0.8799\n",
            "Test accuracy: 0.8798999786376953\n"
          ]
        }
      ],
      "source": [
        "# evaluate the model\n",
        "test_loss, test_acc = model_6.evaluate(x_test, y_test)\n",
        "print('Test accuracy:', test_acc)"
      ]
    },
    {
      "cell_type": "code",
      "execution_count": 92,
      "metadata": {
        "colab": {
          "base_uri": "https://localhost:8080/"
        },
        "id": "llWQ9YSsc34I",
        "outputId": "19274388-71fc-440a-84b5-50013eb04c1e"
      },
      "outputs": [
        {
          "data": {
            "text/plain": [
              "-0.98000168800354"
            ]
          },
          "execution_count": 92,
          "metadata": {
            "tags": []
          },
          "output_type": "execute_result"
        }
      ],
      "source": [
        "(0.8798999786376953 - 0.8896999955177307) * 100"
      ]
    }
  ],
  "metadata": {
    "accelerator": "GPU",
    "colab": {
      "collapsed_sections": [
        "XJKxVwmAecj2",
        "subf29Xs6LR7",
        "DsVZN8uT6G5n",
        "RaqAe8iHPZxF",
        "1iqsLYbMSWqb",
        "qVHFgYifUTVm",
        "8BDPF4z2V2NN",
        "KqvPgVJIYh11",
        "C6KZQWH9adR-",
        "v8cV0cykcHih"
      ],
      "name": "Assignment_1_Question_3.ipynb",
      "provenance": [],
      "toc_visible": true
    },
    "kernelspec": {
      "display_name": "Python 3",
      "name": "python3"
    },
    "language_info": {
      "name": "python",
      "version": "3.8.8"
    }
  },
  "nbformat": 4,
  "nbformat_minor": 0
}
